{
 "cells": [
  {
   "cell_type": "markdown",
   "metadata": {},
   "source": [
    "# Book-Crocessing Recommender system project\n"
   ]
  },
  {
   "cell_type": "code",
   "execution_count": 1,
   "metadata": {},
   "outputs": [],
   "source": [
    "import pandas as pd\n",
    "import numpy as np\n",
    "import matplotlib.pyplot as plt\n",
    "%matplotlib inline\n",
    "import pickle\n",
    "import os\n",
    "import surprise\n",
    "from surprise.model_selection import GridSearchCV"
   ]
  },
  {
   "cell_type": "code",
   "execution_count": 2,
   "metadata": {},
   "outputs": [],
   "source": [
    "os.chdir(\"C:/Users/User_Name/Desktop/data\")"
   ]
  },
  {
   "cell_type": "markdown",
   "metadata": {},
   "source": [
    "Reading the datasets, changing the column names having '-' with '_'"
   ]
  },
  {
   "cell_type": "code",
   "execution_count": 3,
   "metadata": {},
   "outputs": [],
   "source": [
    "users = pd.read_csv('BX-Users.csv', sep=';', encoding='latin-1',low_memory=False, na_values=[\"?\"])\n",
    "ratings = pd.read_csv('BX-Book-Ratings.csv', sep=';', encoding='latin-1',low_memory=False)\n",
    "users.columns = users.columns.str.strip().str.lower().str.replace('-', '_')\n",
    "ratings.columns = ratings.columns.str.strip().str.lower().str.replace('-', '_')\n",
    "i_cols = ['isbn', 'book_title' ,'book_author','year_of_publication', 'publisher', 'img_s', 'img_m', 'img_l']\n",
    "books = pd.read_csv('BX-Books.csv', sep=';', names=i_cols, encoding='latin-1',low_memory=False)"
   ]
  },
  {
   "cell_type": "markdown",
   "metadata": {},
   "source": [
    "Priting the datasets shapes"
   ]
  },
  {
   "cell_type": "code",
   "execution_count": 4,
   "metadata": {},
   "outputs": [
    {
     "name": "stdout",
     "output_type": "stream",
     "text": [
      "(271380, 8)\n",
      "(278858, 3)\n",
      "(1149780, 3)\n"
     ]
    }
   ],
   "source": [
    "print(books.shape)\n",
    "print(users.shape)\n",
    "print(ratings.shape)"
   ]
  },
  {
   "cell_type": "markdown",
   "metadata": {},
   "source": [
    "# Books\n",
    "Exploring Books dataset"
   ]
  },
  {
   "cell_type": "code",
   "execution_count": 5,
   "metadata": {},
   "outputs": [
    {
     "data": {
      "text/html": [
       "<div>\n",
       "<style scoped>\n",
       "    .dataframe tbody tr th:only-of-type {\n",
       "        vertical-align: middle;\n",
       "    }\n",
       "\n",
       "    .dataframe tbody tr th {\n",
       "        vertical-align: top;\n",
       "    }\n",
       "\n",
       "    .dataframe thead th {\n",
       "        text-align: right;\n",
       "    }\n",
       "</style>\n",
       "<table border=\"1\" class=\"dataframe\">\n",
       "  <thead>\n",
       "    <tr style=\"text-align: right;\">\n",
       "      <th></th>\n",
       "      <th>isbn</th>\n",
       "      <th>book_title</th>\n",
       "      <th>book_author</th>\n",
       "      <th>year_of_publication</th>\n",
       "      <th>publisher</th>\n",
       "      <th>img_s</th>\n",
       "      <th>img_m</th>\n",
       "      <th>img_l</th>\n",
       "    </tr>\n",
       "  </thead>\n",
       "  <tbody>\n",
       "    <tr>\n",
       "      <th>0</th>\n",
       "      <td>ISBN</td>\n",
       "      <td>Book-Title</td>\n",
       "      <td>Book-Author</td>\n",
       "      <td>Year-Of-Publication</td>\n",
       "      <td>Publisher</td>\n",
       "      <td>Image-URL-S</td>\n",
       "      <td>Image-URL-M</td>\n",
       "      <td>Image-URL-L</td>\n",
       "    </tr>\n",
       "    <tr>\n",
       "      <th>1</th>\n",
       "      <td>0195153448</td>\n",
       "      <td>Classical Mythology</td>\n",
       "      <td>Mark P. O. Morford</td>\n",
       "      <td>2002</td>\n",
       "      <td>Oxford University Press</td>\n",
       "      <td>http://images.amazon.com/images/P/0195153448.0...</td>\n",
       "      <td>http://images.amazon.com/images/P/0195153448.0...</td>\n",
       "      <td>http://images.amazon.com/images/P/0195153448.0...</td>\n",
       "    </tr>\n",
       "    <tr>\n",
       "      <th>2</th>\n",
       "      <td>0002005018</td>\n",
       "      <td>Clara Callan</td>\n",
       "      <td>Richard Bruce Wright</td>\n",
       "      <td>2001</td>\n",
       "      <td>HarperFlamingo Canada</td>\n",
       "      <td>http://images.amazon.com/images/P/0002005018.0...</td>\n",
       "      <td>http://images.amazon.com/images/P/0002005018.0...</td>\n",
       "      <td>http://images.amazon.com/images/P/0002005018.0...</td>\n",
       "    </tr>\n",
       "  </tbody>\n",
       "</table>\n",
       "</div>"
      ],
      "text/plain": [
       "         isbn           book_title           book_author  year_of_publication  \\\n",
       "0        ISBN           Book-Title           Book-Author  Year-Of-Publication   \n",
       "1  0195153448  Classical Mythology    Mark P. O. Morford                 2002   \n",
       "2  0002005018         Clara Callan  Richard Bruce Wright                 2001   \n",
       "\n",
       "                 publisher                                              img_s  \\\n",
       "0                Publisher                                        Image-URL-S   \n",
       "1  Oxford University Press  http://images.amazon.com/images/P/0195153448.0...   \n",
       "2    HarperFlamingo Canada  http://images.amazon.com/images/P/0002005018.0...   \n",
       "\n",
       "                                               img_m  \\\n",
       "0                                        Image-URL-M   \n",
       "1  http://images.amazon.com/images/P/0195153448.0...   \n",
       "2  http://images.amazon.com/images/P/0002005018.0...   \n",
       "\n",
       "                                               img_l  \n",
       "0                                        Image-URL-L  \n",
       "1  http://images.amazon.com/images/P/0195153448.0...  \n",
       "2  http://images.amazon.com/images/P/0002005018.0...  "
      ]
     },
     "execution_count": 5,
     "metadata": {},
     "output_type": "execute_result"
    }
   ],
   "source": [
    "books.head(3)"
   ]
  },
  {
   "cell_type": "markdown",
   "metadata": {},
   "source": [
    "From the dataset we do not require columns which have image urls, so let us drop them out and view the dataset."
   ]
  },
  {
   "cell_type": "code",
   "execution_count": 6,
   "metadata": {},
   "outputs": [
    {
     "data": {
      "text/html": [
       "<div>\n",
       "<style scoped>\n",
       "    .dataframe tbody tr th:only-of-type {\n",
       "        vertical-align: middle;\n",
       "    }\n",
       "\n",
       "    .dataframe tbody tr th {\n",
       "        vertical-align: top;\n",
       "    }\n",
       "\n",
       "    .dataframe thead th {\n",
       "        text-align: right;\n",
       "    }\n",
       "</style>\n",
       "<table border=\"1\" class=\"dataframe\">\n",
       "  <thead>\n",
       "    <tr style=\"text-align: right;\">\n",
       "      <th></th>\n",
       "      <th>isbn</th>\n",
       "      <th>book_title</th>\n",
       "      <th>book_author</th>\n",
       "      <th>year_of_publication</th>\n",
       "      <th>publisher</th>\n",
       "    </tr>\n",
       "  </thead>\n",
       "  <tbody>\n",
       "    <tr>\n",
       "      <th>1</th>\n",
       "      <td>0195153448</td>\n",
       "      <td>Classical Mythology</td>\n",
       "      <td>Mark P. O. Morford</td>\n",
       "      <td>2002</td>\n",
       "      <td>Oxford University Press</td>\n",
       "    </tr>\n",
       "    <tr>\n",
       "      <th>2</th>\n",
       "      <td>0002005018</td>\n",
       "      <td>Clara Callan</td>\n",
       "      <td>Richard Bruce Wright</td>\n",
       "      <td>2001</td>\n",
       "      <td>HarperFlamingo Canada</td>\n",
       "    </tr>\n",
       "    <tr>\n",
       "      <th>3</th>\n",
       "      <td>0060973129</td>\n",
       "      <td>Decision in Normandy</td>\n",
       "      <td>Carlo D'Este</td>\n",
       "      <td>1991</td>\n",
       "      <td>HarperPerennial</td>\n",
       "    </tr>\n",
       "    <tr>\n",
       "      <th>4</th>\n",
       "      <td>0374157065</td>\n",
       "      <td>Flu: The Story of the Great Influenza Pandemic...</td>\n",
       "      <td>Gina Bari Kolata</td>\n",
       "      <td>1999</td>\n",
       "      <td>Farrar Straus Giroux</td>\n",
       "    </tr>\n",
       "    <tr>\n",
       "      <th>5</th>\n",
       "      <td>0393045218</td>\n",
       "      <td>The Mummies of Urumchi</td>\n",
       "      <td>E. J. W. Barber</td>\n",
       "      <td>1999</td>\n",
       "      <td>W. W. Norton &amp;amp; Company</td>\n",
       "    </tr>\n",
       "  </tbody>\n",
       "</table>\n",
       "</div>"
      ],
      "text/plain": [
       "         isbn                                         book_title  \\\n",
       "1  0195153448                                Classical Mythology   \n",
       "2  0002005018                                       Clara Callan   \n",
       "3  0060973129                               Decision in Normandy   \n",
       "4  0374157065  Flu: The Story of the Great Influenza Pandemic...   \n",
       "5  0393045218                             The Mummies of Urumchi   \n",
       "\n",
       "            book_author year_of_publication                   publisher  \n",
       "1    Mark P. O. Morford                2002     Oxford University Press  \n",
       "2  Richard Bruce Wright                2001       HarperFlamingo Canada  \n",
       "3          Carlo D'Este                1991             HarperPerennial  \n",
       "4      Gina Bari Kolata                1999        Farrar Straus Giroux  \n",
       "5       E. J. W. Barber                1999  W. W. Norton &amp; Company  "
      ]
     },
     "execution_count": 6,
     "metadata": {},
     "output_type": "execute_result"
    }
   ],
   "source": [
    "books = books.iloc[1:]\n",
    "books.drop(columns=['img_s', 'img_m', 'img_l'], inplace=True)\n",
    "books.head(5)"
   ]
  },
  {
   "cell_type": "markdown",
   "metadata": {},
   "source": [
    "Further exploring 'year_of_publication'"
   ]
  },
  {
   "cell_type": "code",
   "execution_count": 7,
   "metadata": {},
   "outputs": [
    {
     "data": {
      "text/plain": [
       "array(['2002', '2001', '1991', '1999', '2000', '1993', '1996', '1988',\n",
       "       '2004', '1998', '1994', '2003', '1997', '1983', '1979', '1995',\n",
       "       '1982', '1985', '1992', '1986', '1978', '1980', '1952', '1987',\n",
       "       '1990', '1981', '1989', '1984', '0', '1968', '1961', '1958',\n",
       "       '1974', '1976', '1971', '1977', '1975', '1965', '1941', '1970',\n",
       "       '1962', '1973', '1972', '1960', '1966', '1920', '1956', '1959',\n",
       "       '1953', '1951', '1942', '1963', '1964', '1969', '1954', '1950',\n",
       "       '1967', '2005', '1957', '1940', '1937', 'John Peterman', '1955',\n",
       "       '1946', '1936', '1930', '2011', '1925', '1948', '1943', '1947',\n",
       "       '1945', '1923', '2020', '1939', '1926', '1938', '2030',\n",
       "       '\\\\\"Freedom Song\\\\\"\"', '1911', '1904', '1949', 'Frank Muir',\n",
       "       '1932', '1928', '1929', '1927', '1931', '1914', '2050', '1934',\n",
       "       '1910', 'ROBERT A. WILSON', '1933', '1902', 'Karen T. Whittenburg',\n",
       "       '1924', '1921', '1900', '2038', '2026', 'George H. Scherr', '1944',\n",
       "       '1917', '1901', 'Salvador de Madariaga', '2010',\n",
       "       'K.C. Constantine', 'Stan Berenstain', '1908', '1906', '1935',\n",
       "       '1806', 'Francine Pascal', '2021', 'Luella Hill', '2012', '2006',\n",
       "       'John Alderson Foote', 'DK Publishing Inc', 'Jules Janin',\n",
       "       'Gallimard', '1909', '2008', '1378', ' &amp', ' Learning\"', '1919',\n",
       "       '1922', '1897', 'Isadora Duncan', '2024', 'Beatrix Potter', '1376',\n",
       "       '2037', 'Bart Rulon', 'Alan Rich'], dtype=object)"
      ]
     },
     "execution_count": 7,
     "metadata": {},
     "output_type": "execute_result"
    }
   ],
   "source": [
    "books[\"year_of_publication\"].unique()"
   ]
  },
  {
   "cell_type": "markdown",
   "metadata": {},
   "source": [
    "After printing the unique value and analysing the histogram, we find that there are many string, nan and zero values. So, lets convert them the column to numeric value. And, then replace all nan's with zeros and ultimately remove the records with zeros. We also notice that there are values lesser than 1900 and values greater than 2018 books. Let us go ahead and remove the books that were published before 1900 and after 2008."
   ]
  },
  {
   "cell_type": "code",
   "execution_count": 8,
   "metadata": {},
   "outputs": [],
   "source": [
    "books[\"year_of_publication\"] = pd.to_numeric(books[\"year_of_publication\"], errors='coerce')"
   ]
  },
  {
   "cell_type": "code",
   "execution_count": 9,
   "metadata": {},
   "outputs": [
    {
     "data": {
      "image/png": "[encoded data removed]",
      "text/plain": [
       "<Figure size 720x360 with 1 Axes>"
      ]
     },
     "metadata": {
      "needs_background": "light"
     },
     "output_type": "display_data"
    }
   ],
   "source": [
    "year = books[\"year_of_publication\"].value_counts().sort_index()\n",
    "plt.figure(figsize=(10, 5))\n",
    "plt.bar(year.index, year.values)\n",
    "plt.axis([1950, 2020, 0, 18000])\n",
    "plt.xlabel('Year of Publication')\n",
    "plt.ylabel('counts')\n",
    "plt.show()"
   ]
  },
  {
   "cell_type": "code",
   "execution_count": 10,
   "metadata": {},
   "outputs": [
    {
     "data": {
      "text/plain": [
       "array([2002., 2001., 1991., 1999., 2000., 1993., 1996., 1988., 2004.,\n",
       "       1998., 1994., 2003., 1997., 1983., 1979., 1995., 1982., 1985.,\n",
       "       1992., 1986., 1978., 1980., 1952., 1987., 1990., 1981., 1989.,\n",
       "       1984.,    0., 1968., 1961., 1958., 1974., 1976., 1971., 1977.,\n",
       "       1975., 1965., 1941., 1970., 1962., 1973., 1972., 1960., 1966.,\n",
       "       1920., 1956., 1959., 1953., 1951., 1942., 1963., 1964., 1969.,\n",
       "       1954., 1950., 1967., 2005., 1957., 1940., 1937.,   nan, 1955.,\n",
       "       1946., 1936., 1930., 2011., 1925., 1948., 1943., 1947., 1945.,\n",
       "       1923., 2020., 1939., 1926., 1938., 2030., 1911., 1904., 1949.,\n",
       "       1932., 1928., 1929., 1927., 1931., 1914., 2050., 1934., 1910.,\n",
       "       1933., 1902., 1924., 1921., 1900., 2038., 2026., 1944., 1917.,\n",
       "       1901., 2010., 1908., 1906., 1935., 1806., 2021., 2012., 2006.,\n",
       "       1909., 2008., 1378., 1919., 1922., 1897., 2024., 1376., 2037.])"
      ]
     },
     "execution_count": 10,
     "metadata": {},
     "output_type": "execute_result"
    }
   ],
   "source": [
    "books[\"year_of_publication\"].unique()"
   ]
  },
  {
   "cell_type": "code",
   "execution_count": 11,
   "metadata": {},
   "outputs": [],
   "source": [
    "books = books.loc[~(books.isbn.isin(books.isbn[books.year_of_publication<1900]))]\n",
    "books = books.loc[~(books.isbn.isin(books.isbn[books.year_of_publication>2018]))]"
   ]
  },
  {
   "cell_type": "code",
   "execution_count": 12,
   "metadata": {},
   "outputs": [
    {
     "data": {
      "text/plain": [
       "array([2002., 2001., 1991., 1999., 2000., 1993., 1996., 1988., 2004.,\n",
       "       1998., 1994., 2003., 1997., 1983., 1979., 1995., 1982., 1985.,\n",
       "       1992., 1986., 1978., 1980., 1952., 1987., 1990., 1981., 1989.,\n",
       "       1984., 1968., 1961., 1958., 1974., 1976., 1971., 1977., 1975.,\n",
       "       1965., 1941., 1970., 1962., 1973., 1972., 1960., 1966., 1920.,\n",
       "       1956., 1959., 1953., 1951., 1942., 1963., 1964., 1969., 1954.,\n",
       "       1950., 1967., 2005., 1957., 1940., 1937.,   nan, 1955., 1946.,\n",
       "       1936., 1930., 2011., 1925., 1948., 1943., 1947., 1945., 1923.,\n",
       "       1939., 1926., 1938., 1911., 1904., 1949., 1932., 1928., 1929.,\n",
       "       1927., 1931., 1914., 1934., 1910., 1933., 1902., 1924., 1921.,\n",
       "       1900., 1944., 1917., 1901., 2010., 1908., 1906., 1935., 2012.,\n",
       "       2006., 1909., 2008., 1919., 1922.])"
      ]
     },
     "execution_count": 12,
     "metadata": {},
     "output_type": "execute_result"
    }
   ],
   "source": [
    "books[\"year_of_publication\"].unique()"
   ]
  },
  {
   "cell_type": "code",
   "execution_count": 13,
   "metadata": {},
   "outputs": [
    {
     "name": "stdout",
     "output_type": "stream",
     "text": [
      "Books with zero:  0\n",
      "Books with nan:  22\n"
     ]
    }
   ],
   "source": [
    "print(\"Books with zero: \",books[books.year_of_publication == 0].year_of_publication.count())\n",
    "print(\"Books with nan: \", books.year_of_publication.isnull().sum())"
   ]
  },
  {
   "cell_type": "code",
   "execution_count": 14,
   "metadata": {},
   "outputs": [
    {
     "name": "stdout",
     "output_type": "stream",
     "text": [
      "Publisher:  2\n",
      "isbn:  0\n",
      "book_title:  0\n",
      "book_author:  0\n"
     ]
    }
   ],
   "source": [
    "print(\"Publisher: \", books.publisher.isnull().sum())\n",
    "print(\"isbn: \", books.isbn.isnull().sum())\n",
    "print(\"book_title: \", books.isbn.isnull().sum())\n",
    "print(\"book_author: \", books.isbn.isnull().sum())"
   ]
  },
  {
   "cell_type": "code",
   "execution_count": 15,
   "metadata": {},
   "outputs": [],
   "source": [
    "books.publisher.replace(np.nan, \"Unkown\", inplace=True)"
   ]
  },
  {
   "cell_type": "code",
   "execution_count": 16,
   "metadata": {},
   "outputs": [
    {
     "name": "stdout",
     "output_type": "stream",
     "text": [
      "Publisher:  0\n",
      "isbn:  0\n",
      "book_title:  0\n",
      "book_author:  0\n"
     ]
    }
   ],
   "source": [
    "print(\"Publisher: \", books.publisher.isnull().sum())\n",
    "print(\"isbn: \", books.isbn.isnull().sum())\n",
    "print(\"book_title: \", books.isbn.isnull().sum())\n",
    "print(\"book_author: \", books.isbn.isnull().sum())"
   ]
  },
  {
   "cell_type": "markdown",
   "metadata": {},
   "source": [
    "Now, based on the valid dataset, let us see top 10 authors with maximum number of books, maximum number of books with titles,\n",
    "and publishers with maximum number of books published."
   ]
  },
  {
   "cell_type": "code",
   "execution_count": 17,
   "metadata": {},
   "outputs": [
    {
     "name": "stdout",
     "output_type": "stream",
     "text": [
      "Top 10 Authors: \n",
      " Agatha Christie        598\n",
      "William Shakespeare    559\n",
      "Stephen King           511\n",
      "Ann M. Martin          423\n",
      "Francine Pascal        372\n",
      "Carolyn Keene          372\n",
      "Isaac Asimov           328\n",
      "Nora Roberts           313\n",
      "Barbara Cartland       307\n",
      "Charles Dickens        295\n",
      "Name: book_author, dtype: int64\n"
     ]
    }
   ],
   "source": [
    "print(\"Top 10 Authors: \\n\",books.book_author.value_counts()[:10])"
   ]
  },
  {
   "cell_type": "code",
   "execution_count": 18,
   "metadata": {},
   "outputs": [
    {
     "name": "stdout",
     "output_type": "stream",
     "text": [
      "\n",
      "Top 10 Book Titles: \n",
      " Selected Poems                    27\n",
      "Little Women                      22\n",
      "Adventures of Huckleberry Finn    20\n",
      "Dracula                           20\n",
      "Wuthering Heights                 20\n",
      "The Night Before Christmas        18\n",
      "The Secret Garden                 18\n",
      "Pride and Prejudice               17\n",
      "Jane Eyre                         16\n",
      "Masquerade                        16\n",
      "Name: book_title, dtype: int64\n"
     ]
    }
   ],
   "source": [
    "print(\"\\nTop 10 Book Titles: \\n\", books.book_title.value_counts()[:10])"
   ]
  },
  {
   "cell_type": "code",
   "execution_count": 19,
   "metadata": {},
   "outputs": [
    {
     "name": "stdout",
     "output_type": "stream",
     "text": [
      "\n",
      "Top 10 Publishers: \n",
      " Harlequin                   7535\n",
      "Silhouette                  4220\n",
      "Pocket                      3870\n",
      "Ballantine Books            3764\n",
      "Bantam Books                3642\n",
      "Scholastic                  3156\n",
      "Simon &amp; Schuster        2965\n",
      "Penguin Books               2843\n",
      "Berkley Publishing Group    2767\n",
      "Penguin USA                 2714\n",
      "Name: publisher, dtype: int64\n"
     ]
    }
   ],
   "source": [
    "print(\"\\nTop 10 Publishers: \\n\", books.publisher.value_counts()[:10])"
   ]
  },
  {
   "cell_type": "markdown",
   "metadata": {},
   "source": [
    "On further exploring the book titles we found that there are many books with the same title but published from a different publisher\n",
    "or a different publishing year. While building the recommending system we have have to make sure we handle this situation."
   ]
  },
  {
   "cell_type": "code",
   "execution_count": 20,
   "metadata": {
    "scrolled": true
   },
   "outputs": [
    {
     "data": {
      "text/html": [
       "<div>\n",
       "<style scoped>\n",
       "    .dataframe tbody tr th:only-of-type {\n",
       "        vertical-align: middle;\n",
       "    }\n",
       "\n",
       "    .dataframe tbody tr th {\n",
       "        vertical-align: top;\n",
       "    }\n",
       "\n",
       "    .dataframe thead th {\n",
       "        text-align: right;\n",
       "    }\n",
       "</style>\n",
       "<table border=\"1\" class=\"dataframe\">\n",
       "  <thead>\n",
       "    <tr style=\"text-align: right;\">\n",
       "      <th></th>\n",
       "      <th>isbn</th>\n",
       "      <th>book_title</th>\n",
       "      <th>book_author</th>\n",
       "      <th>year_of_publication</th>\n",
       "      <th>publisher</th>\n",
       "    </tr>\n",
       "  </thead>\n",
       "  <tbody>\n",
       "    <tr>\n",
       "      <th>3953</th>\n",
       "      <td>185854176X</td>\n",
       "      <td>Little Women</td>\n",
       "      <td>Louisa M. Atcott</td>\n",
       "      <td>1995.0</td>\n",
       "      <td>Brimax Books Ltd</td>\n",
       "    </tr>\n",
       "    <tr>\n",
       "      <th>12229</th>\n",
       "      <td>0590203509</td>\n",
       "      <td>Little Women</td>\n",
       "      <td>Louisa May Alcott</td>\n",
       "      <td>1994.0</td>\n",
       "      <td>Scholastic</td>\n",
       "    </tr>\n",
       "    <tr>\n",
       "      <th>20678</th>\n",
       "      <td>0440447682</td>\n",
       "      <td>Little Women</td>\n",
       "      <td>Louisa May Alcott</td>\n",
       "      <td>1990.0</td>\n",
       "      <td>Yearling Books</td>\n",
       "    </tr>\n",
       "    <tr>\n",
       "      <th>52214</th>\n",
       "      <td>0451529308</td>\n",
       "      <td>Little Women</td>\n",
       "      <td>Louisa May Alcott</td>\n",
       "      <td>2004.0</td>\n",
       "      <td>Signet Classics</td>\n",
       "    </tr>\n",
       "    <tr>\n",
       "      <th>52555</th>\n",
       "      <td>0451518144</td>\n",
       "      <td>Little Women</td>\n",
       "      <td>Louisa May Alcott</td>\n",
       "      <td>1983.0</td>\n",
       "      <td>Signet Book</td>\n",
       "    </tr>\n",
       "    <tr>\n",
       "      <th>53362</th>\n",
       "      <td>0590437976</td>\n",
       "      <td>Little Women</td>\n",
       "      <td>Louisa May Alcott</td>\n",
       "      <td>1992.0</td>\n",
       "      <td>Scholastic</td>\n",
       "    </tr>\n",
       "    <tr>\n",
       "      <th>57436</th>\n",
       "      <td>0195813898</td>\n",
       "      <td>Little Women</td>\n",
       "      <td>Alcott</td>\n",
       "      <td>1985.0</td>\n",
       "      <td>Oxford University Press</td>\n",
       "    </tr>\n",
       "    <tr>\n",
       "      <th>72172</th>\n",
       "      <td>0785788727</td>\n",
       "      <td>Little Women</td>\n",
       "      <td>Louisa May Alcott</td>\n",
       "      <td>1999.0</td>\n",
       "      <td>Sagebrush Bound</td>\n",
       "    </tr>\n",
       "    <tr>\n",
       "      <th>82569</th>\n",
       "      <td>0448110199</td>\n",
       "      <td>Little Women</td>\n",
       "      <td>Louisa May Alcott</td>\n",
       "      <td>1981.0</td>\n",
       "      <td>Grosset &amp;amp; Dunlap</td>\n",
       "    </tr>\n",
       "    <tr>\n",
       "      <th>84811</th>\n",
       "      <td>0812523334</td>\n",
       "      <td>Little Women</td>\n",
       "      <td>Louisa May Alcott</td>\n",
       "      <td>1994.0</td>\n",
       "      <td>Tor Books</td>\n",
       "    </tr>\n",
       "    <tr>\n",
       "      <th>110752</th>\n",
       "      <td>0394562798</td>\n",
       "      <td>Little Women</td>\n",
       "      <td>Louisa May Alcott</td>\n",
       "      <td>1988.0</td>\n",
       "      <td>Alfred A. Knopf</td>\n",
       "    </tr>\n",
       "    <tr>\n",
       "      <th>118225</th>\n",
       "      <td>1557042160</td>\n",
       "      <td>Little Women</td>\n",
       "      <td>Laurie Lawlor</td>\n",
       "      <td>1994.0</td>\n",
       "      <td>Newmarket Press</td>\n",
       "    </tr>\n",
       "    <tr>\n",
       "      <th>124848</th>\n",
       "      <td>0590433423</td>\n",
       "      <td>Little Women</td>\n",
       "      <td>Louisa May Alcott</td>\n",
       "      <td>1989.0</td>\n",
       "      <td>Scholastic</td>\n",
       "    </tr>\n",
       "    <tr>\n",
       "      <th>142268</th>\n",
       "      <td>0448054663</td>\n",
       "      <td>Little Women</td>\n",
       "      <td>Louisa May Alcott</td>\n",
       "      <td>1970.0</td>\n",
       "      <td>Price Stern Sloan Pub (J)</td>\n",
       "    </tr>\n",
       "    <tr>\n",
       "      <th>142309</th>\n",
       "      <td>0448023644</td>\n",
       "      <td>Little Women</td>\n",
       "      <td>Louisa May Alcott</td>\n",
       "      <td>1976.0</td>\n",
       "      <td>Price Stern Sloan Pub (J)</td>\n",
       "    </tr>\n",
       "    <tr>\n",
       "      <th>142312</th>\n",
       "      <td>0590404989</td>\n",
       "      <td>Little Women</td>\n",
       "      <td>Louisa May Alcott</td>\n",
       "      <td>1987.0</td>\n",
       "      <td>Scholastic</td>\n",
       "    </tr>\n",
       "    <tr>\n",
       "      <th>163557</th>\n",
       "      <td>0681400552</td>\n",
       "      <td>Little Women</td>\n",
       "      <td>Louisa May Alcott</td>\n",
       "      <td>1986.0</td>\n",
       "      <td>Borders Press</td>\n",
       "    </tr>\n",
       "    <tr>\n",
       "      <th>168792</th>\n",
       "      <td>1593081081</td>\n",
       "      <td>Little Women</td>\n",
       "      <td>Louisa May Alcott</td>\n",
       "      <td>2004.0</td>\n",
       "      <td>Barnes &amp;amp; Noble Books-Imports</td>\n",
       "    </tr>\n",
       "    <tr>\n",
       "      <th>189675</th>\n",
       "      <td>1568651198</td>\n",
       "      <td>Little Women</td>\n",
       "      <td>Louisa May Alcott</td>\n",
       "      <td>1995.0</td>\n",
       "      <td>Doubleday Books</td>\n",
       "    </tr>\n",
       "    <tr>\n",
       "      <th>212784</th>\n",
       "      <td>0553211153</td>\n",
       "      <td>Little Women</td>\n",
       "      <td>Louisa May Alcott</td>\n",
       "      <td>1983.0</td>\n",
       "      <td>Bantam</td>\n",
       "    </tr>\n",
       "    <tr>\n",
       "      <th>224573</th>\n",
       "      <td>0448172569</td>\n",
       "      <td>Little Women</td>\n",
       "      <td>Louisa May Alcott</td>\n",
       "      <td>1978.0</td>\n",
       "      <td>Berkley Pub Group (Mm)</td>\n",
       "    </tr>\n",
       "    <tr>\n",
       "      <th>258071</th>\n",
       "      <td>0590225375</td>\n",
       "      <td>Little Women</td>\n",
       "      <td>Louisa May Alcott</td>\n",
       "      <td>1994.0</td>\n",
       "      <td>Little Brown and Company</td>\n",
       "    </tr>\n",
       "  </tbody>\n",
       "</table>\n",
       "</div>"
      ],
      "text/plain": [
       "              isbn    book_title        book_author  year_of_publication  \\\n",
       "3953    185854176X  Little Women   Louisa M. Atcott               1995.0   \n",
       "12229   0590203509  Little Women  Louisa May Alcott               1994.0   \n",
       "20678   0440447682  Little Women  Louisa May Alcott               1990.0   \n",
       "52214   0451529308  Little Women  Louisa May Alcott               2004.0   \n",
       "52555   0451518144  Little Women  Louisa May Alcott               1983.0   \n",
       "53362   0590437976  Little Women  Louisa May Alcott               1992.0   \n",
       "57436   0195813898  Little Women             Alcott               1985.0   \n",
       "72172   0785788727  Little Women  Louisa May Alcott               1999.0   \n",
       "82569   0448110199  Little Women  Louisa May Alcott               1981.0   \n",
       "84811   0812523334  Little Women  Louisa May Alcott               1994.0   \n",
       "110752  0394562798  Little Women  Louisa May Alcott               1988.0   \n",
       "118225  1557042160  Little Women      Laurie Lawlor               1994.0   \n",
       "124848  0590433423  Little Women  Louisa May Alcott               1989.0   \n",
       "142268  0448054663  Little Women  Louisa May Alcott               1970.0   \n",
       "142309  0448023644  Little Women  Louisa May Alcott               1976.0   \n",
       "142312  0590404989  Little Women  Louisa May Alcott               1987.0   \n",
       "163557  0681400552  Little Women  Louisa May Alcott               1986.0   \n",
       "168792  1593081081  Little Women  Louisa May Alcott               2004.0   \n",
       "189675  1568651198  Little Women  Louisa May Alcott               1995.0   \n",
       "212784  0553211153  Little Women  Louisa May Alcott               1983.0   \n",
       "224573  0448172569  Little Women  Louisa May Alcott               1978.0   \n",
       "258071  0590225375  Little Women  Louisa May Alcott               1994.0   \n",
       "\n",
       "                               publisher  \n",
       "3953                    Brimax Books Ltd  \n",
       "12229                         Scholastic  \n",
       "20678                     Yearling Books  \n",
       "52214                    Signet Classics  \n",
       "52555                        Signet Book  \n",
       "53362                         Scholastic  \n",
       "57436            Oxford University Press  \n",
       "72172                    Sagebrush Bound  \n",
       "82569               Grosset &amp; Dunlap  \n",
       "84811                          Tor Books  \n",
       "110752                   Alfred A. Knopf  \n",
       "118225                   Newmarket Press  \n",
       "124848                        Scholastic  \n",
       "142268         Price Stern Sloan Pub (J)  \n",
       "142309         Price Stern Sloan Pub (J)  \n",
       "142312                        Scholastic  \n",
       "163557                     Borders Press  \n",
       "168792  Barnes &amp; Noble Books-Imports  \n",
       "189675                   Doubleday Books  \n",
       "212784                            Bantam  \n",
       "224573            Berkley Pub Group (Mm)  \n",
       "258071          Little Brown and Company  "
      ]
     },
     "execution_count": 20,
     "metadata": {},
     "output_type": "execute_result"
    }
   ],
   "source": [
    "books[books.book_title==\"Little Women\"]"
   ]
  },
  {
   "cell_type": "markdown",
   "metadata": {},
   "source": [
    "# Users"
   ]
  },
  {
   "cell_type": "code",
   "execution_count": 21,
   "metadata": {},
   "outputs": [
    {
     "data": {
      "text/html": [
       "<div>\n",
       "<style scoped>\n",
       "    .dataframe tbody tr th:only-of-type {\n",
       "        vertical-align: middle;\n",
       "    }\n",
       "\n",
       "    .dataframe tbody tr th {\n",
       "        vertical-align: top;\n",
       "    }\n",
       "\n",
       "    .dataframe thead th {\n",
       "        text-align: right;\n",
       "    }\n",
       "</style>\n",
       "<table border=\"1\" class=\"dataframe\">\n",
       "  <thead>\n",
       "    <tr style=\"text-align: right;\">\n",
       "      <th></th>\n",
       "      <th>user_id</th>\n",
       "      <th>location</th>\n",
       "      <th>age</th>\n",
       "    </tr>\n",
       "  </thead>\n",
       "  <tbody>\n",
       "    <tr>\n",
       "      <th>0</th>\n",
       "      <td>1</td>\n",
       "      <td>nyc, new york, usa</td>\n",
       "      <td>NaN</td>\n",
       "    </tr>\n",
       "    <tr>\n",
       "      <th>1</th>\n",
       "      <td>2</td>\n",
       "      <td>stockton, california, usa</td>\n",
       "      <td>18.0</td>\n",
       "    </tr>\n",
       "    <tr>\n",
       "      <th>2</th>\n",
       "      <td>3</td>\n",
       "      <td>moscow, yukon territory, russia</td>\n",
       "      <td>NaN</td>\n",
       "    </tr>\n",
       "    <tr>\n",
       "      <th>3</th>\n",
       "      <td>4</td>\n",
       "      <td>porto, v.n.gaia, portugal</td>\n",
       "      <td>17.0</td>\n",
       "    </tr>\n",
       "    <tr>\n",
       "      <th>4</th>\n",
       "      <td>5</td>\n",
       "      <td>farnborough, hants, united kingdom</td>\n",
       "      <td>NaN</td>\n",
       "    </tr>\n",
       "  </tbody>\n",
       "</table>\n",
       "</div>"
      ],
      "text/plain": [
       "   user_id                            location   age\n",
       "0        1                  nyc, new york, usa   NaN\n",
       "1        2           stockton, california, usa  18.0\n",
       "2        3     moscow, yukon territory, russia   NaN\n",
       "3        4           porto, v.n.gaia, portugal  17.0\n",
       "4        5  farnborough, hants, united kingdom   NaN"
      ]
     },
     "execution_count": 21,
     "metadata": {},
     "output_type": "execute_result"
    }
   ],
   "source": [
    "users.head()"
   ]
  },
  {
   "cell_type": "markdown",
   "metadata": {},
   "source": [
    "We see that the whole address is combined into one.Let us separate the data into City, State and Country columns and then \n",
    "combine them back together."
   ]
  },
  {
   "cell_type": "code",
   "execution_count": 22,
   "metadata": {},
   "outputs": [
    {
     "data": {
      "text/plain": [
       "city       0\n",
       "state      1\n",
       "country    2\n",
       "dtype: int64"
      ]
     },
     "execution_count": 22,
     "metadata": {},
     "output_type": "execute_result"
    }
   ],
   "source": [
    "user=users[[\"user_id\",\"age\"]]\n",
    "userLocation = users[\"location\"].str.split(\",\", n = 2, expand = True)\n",
    "userLocation.columns=['city', 'state', 'country']\n",
    "userLocation.isna().sum()"
   ]
  },
  {
   "cell_type": "markdown",
   "metadata": {},
   "source": [
    "There are many values with incorrect data in it. Let us fill the empty and NA values as others and proceed ahead."
   ]
  },
  {
   "cell_type": "code",
   "execution_count": 23,
   "metadata": {},
   "outputs": [
    {
     "data": {
      "text/html": [
       "<div>\n",
       "<style scoped>\n",
       "    .dataframe tbody tr th:only-of-type {\n",
       "        vertical-align: middle;\n",
       "    }\n",
       "\n",
       "    .dataframe tbody tr th {\n",
       "        vertical-align: top;\n",
       "    }\n",
       "\n",
       "    .dataframe thead th {\n",
       "        text-align: right;\n",
       "    }\n",
       "</style>\n",
       "<table border=\"1\" class=\"dataframe\">\n",
       "  <thead>\n",
       "    <tr style=\"text-align: right;\">\n",
       "      <th></th>\n",
       "      <th>user_id</th>\n",
       "      <th>age</th>\n",
       "      <th>city</th>\n",
       "      <th>state</th>\n",
       "      <th>country</th>\n",
       "    </tr>\n",
       "  </thead>\n",
       "  <tbody>\n",
       "    <tr>\n",
       "      <th>0</th>\n",
       "      <td>1</td>\n",
       "      <td>NaN</td>\n",
       "      <td>nyc</td>\n",
       "      <td>new york</td>\n",
       "      <td>usa</td>\n",
       "    </tr>\n",
       "    <tr>\n",
       "      <th>1</th>\n",
       "      <td>2</td>\n",
       "      <td>18.0</td>\n",
       "      <td>stockton</td>\n",
       "      <td>california</td>\n",
       "      <td>usa</td>\n",
       "    </tr>\n",
       "  </tbody>\n",
       "</table>\n",
       "</div>"
      ],
      "text/plain": [
       "   user_id   age      city        state country\n",
       "0        1   NaN       nyc     new york     usa\n",
       "1        2  18.0  stockton   california     usa"
      ]
     },
     "execution_count": 23,
     "metadata": {},
     "output_type": "execute_result"
    }
   ],
   "source": [
    "userLocation.loc[(userLocation.state=='\\\\n/a\\\\\"') | (userLocation.state=='') | (userLocation.state=='*') | (userLocation.state=='n.a'), ['state']] = 'na'\n",
    "userLocation.state.fillna('Other', inplace=True)\n",
    "userLocation.fillna('na', inplace=True)\n",
    "user=user.join(userLocation)\n",
    "users = user\n",
    "users.head(2)"
   ]
  },
  {
   "cell_type": "markdown",
   "metadata": {},
   "source": [
    "Plotting the histogram, we see that have users whose age is greater than 5 and 100. Let us drop those user records. And, also we will check for NaN, zero and na values and replace with the age mean."
   ]
  },
  {
   "cell_type": "code",
   "execution_count": 24,
   "metadata": {},
   "outputs": [
    {
     "name": "stdout",
     "output_type": "stream",
     "text": [
      "Min user's age is:  0.0\n",
      "Max user's age is:  244.0\n"
     ]
    }
   ],
   "source": [
    "print(\"Min user's age is: \",users[\"age\"].min())\n",
    "print(\"Max user's age is: \",users[\"age\"].max())"
   ]
  },
  {
   "cell_type": "code",
   "execution_count": 25,
   "metadata": {},
   "outputs": [
    {
     "name": "stdout",
     "output_type": "stream",
     "text": [
      "Users with 5 > age & age > 99 : 1255\n"
     ]
    }
   ],
   "source": [
    "print(\"Users with 5 > age & age > 99 :\",users.loc[(user.age>99) | (user.age<5),'age'].count())"
   ]
  },
  {
   "cell_type": "code",
   "execution_count": 26,
   "metadata": {},
   "outputs": [
    {
     "name": "stdout",
     "output_type": "stream",
     "text": [
      "112017\n"
     ]
    }
   ],
   "source": [
    "user.loc[(user.age>99) | (user.age<5),'age'] = np.nan\n",
    "print(users.user_id[users.age.isnull()].count())\n",
    "users.age.fillna(round(users.age.mean(),2), axis=0, inplace=True)"
   ]
  },
  {
   "cell_type": "code",
   "execution_count": 27,
   "metadata": {},
   "outputs": [
    {
     "name": "stdout",
     "output_type": "stream",
     "text": [
      "0\n"
     ]
    }
   ],
   "source": [
    "print(users.user_id[users.age.isnull()].count())"
   ]
  },
  {
   "cell_type": "code",
   "execution_count": 28,
   "metadata": {},
   "outputs": [
    {
     "data": {
      "image/png": "[encoded data removed]",
      "text/plain": [
       "<Figure size 432x288 with 1 Axes>"
      ]
     },
     "metadata": {
      "needs_background": "light"
     },
     "output_type": "display_data"
    }
   ],
   "source": [
    "plt.hist(users[\"age\"], bins=16, alpha=0.5)\n",
    "plt.xlabel('age')\n",
    "plt.ylabel('Count')\n",
    "plt.title('Histogram of age')\n",
    "plt.axis([0, 100, 0, 140000])\n",
    "plt.grid(True)"
   ]
  },
  {
   "cell_type": "markdown",
   "metadata": {},
   "source": [
    "Now, with the remaining users let us calculate the top 5 countries with maximum users, check the distribution of users across different cities and the repeat the same steps with country."
   ]
  },
  {
   "cell_type": "code",
   "execution_count": 29,
   "metadata": {},
   "outputs": [
    {
     "name": "stdout",
     "output_type": "stream",
     "text": [
      "Top cities from which most of the users are:\n",
      " london       4105\n",
      "barcelona    2664\n",
      "toronto      2342\n",
      "madrid       1933\n",
      "sydney       1884\n",
      "Name: city, dtype: int64\n"
     ]
    }
   ],
   "source": [
    "top_cities = users.city.value_counts()[:5]\n",
    "print(\"Top cities from which most of the users are:\\n\", top_cities)"
   ]
  },
  {
   "cell_type": "code",
   "execution_count": 30,
   "metadata": {},
   "outputs": [
    {
     "data": {
      "image/png": "[encoded data removed]",
      "text/plain": [
       "<Figure size 720x360 with 1 Axes>"
      ]
     },
     "metadata": {
      "needs_background": "light"
     },
     "output_type": "display_data"
    }
   ],
   "source": [
    "plt.figure(figsize=(10, 5))\n",
    "plt.bar(top_cities.index, top_cities.values)\n",
    "plt.xlabel('Distribution of Top cities')\n",
    "plt.ylabel('counts')\n",
    "plt.show()"
   ]
  },
  {
   "cell_type": "code",
   "execution_count": 31,
   "metadata": {},
   "outputs": [
    {
     "name": "stdout",
     "output_type": "stream",
     "text": [
      "Top countries from which most of the users are:\n",
      "  usa               139183\n",
      " canada             21556\n",
      " united kingdom     18286\n",
      " germany            17021\n",
      " spain              13088\n",
      " australia          11719\n",
      " italy              11238\n",
      "                     4561\n",
      " france              3440\n",
      " portugal            3305\n",
      "Name: country, dtype: int64\n"
     ]
    }
   ],
   "source": [
    "top_countries = users.country.value_counts()[:10]\n",
    "print(\"Top countries from which most of the users are:\\n\", top_countries)"
   ]
  },
  {
   "cell_type": "code",
   "execution_count": 32,
   "metadata": {},
   "outputs": [
    {
     "data": {
      "image/png": "[encoded data removed]",
      "text/plain": [
       "<Figure size 720x360 with 1 Axes>"
      ]
     },
     "metadata": {
      "needs_background": "light"
     },
     "output_type": "display_data"
    }
   ],
   "source": [
    "plt.figure(figsize=(10, 5))\n",
    "plt.bar(top_countries.index, top_countries.values)\n",
    "plt.xlabel('Distribution of top countries')\n",
    "plt.ylabel('counts')\n",
    "plt.show()"
   ]
  },
  {
   "cell_type": "markdown",
   "metadata": {},
   "source": [
    "# Ratings"
   ]
  },
  {
   "cell_type": "code",
   "execution_count": 33,
   "metadata": {},
   "outputs": [
    {
     "data": {
      "text/html": [
       "<div>\n",
       "<style scoped>\n",
       "    .dataframe tbody tr th:only-of-type {\n",
       "        vertical-align: middle;\n",
       "    }\n",
       "\n",
       "    .dataframe tbody tr th {\n",
       "        vertical-align: top;\n",
       "    }\n",
       "\n",
       "    .dataframe thead th {\n",
       "        text-align: right;\n",
       "    }\n",
       "</style>\n",
       "<table border=\"1\" class=\"dataframe\">\n",
       "  <thead>\n",
       "    <tr style=\"text-align: right;\">\n",
       "      <th></th>\n",
       "      <th>user_id</th>\n",
       "      <th>isbn</th>\n",
       "      <th>book_rating</th>\n",
       "    </tr>\n",
       "  </thead>\n",
       "  <tbody>\n",
       "    <tr>\n",
       "      <th>0</th>\n",
       "      <td>276725</td>\n",
       "      <td>034545104X</td>\n",
       "      <td>0</td>\n",
       "    </tr>\n",
       "    <tr>\n",
       "      <th>1</th>\n",
       "      <td>276726</td>\n",
       "      <td>0155061224</td>\n",
       "      <td>5</td>\n",
       "    </tr>\n",
       "    <tr>\n",
       "      <th>2</th>\n",
       "      <td>276727</td>\n",
       "      <td>0446520802</td>\n",
       "      <td>0</td>\n",
       "    </tr>\n",
       "    <tr>\n",
       "      <th>3</th>\n",
       "      <td>276729</td>\n",
       "      <td>052165615X</td>\n",
       "      <td>3</td>\n",
       "    </tr>\n",
       "    <tr>\n",
       "      <th>4</th>\n",
       "      <td>276729</td>\n",
       "      <td>0521795028</td>\n",
       "      <td>6</td>\n",
       "    </tr>\n",
       "  </tbody>\n",
       "</table>\n",
       "</div>"
      ],
      "text/plain": [
       "   user_id        isbn  book_rating\n",
       "0   276725  034545104X            0\n",
       "1   276726  0155061224            5\n",
       "2   276727  0446520802            0\n",
       "3   276729  052165615X            3\n",
       "4   276729  0521795028            6"
      ]
     },
     "execution_count": 33,
     "metadata": {},
     "output_type": "execute_result"
    }
   ],
   "source": [
    "ratings.head(5)"
   ]
  },
  {
   "cell_type": "code",
   "execution_count": 34,
   "metadata": {},
   "outputs": [
    {
     "data": {
      "text/plain": [
       "(1149780, 3)"
      ]
     },
     "execution_count": 34,
     "metadata": {},
     "output_type": "execute_result"
    }
   ],
   "source": [
    "ratings.shape"
   ]
  },
  {
   "cell_type": "markdown",
   "metadata": {},
   "source": [
    "Checking the number of users in the data per book. Remember we still have not removed our multiple isbn problem."
   ]
  },
  {
   "cell_type": "code",
   "execution_count": 35,
   "metadata": {},
   "outputs": [
    {
     "name": "stdout",
     "output_type": "stream",
     "text": [
      "105283\n"
     ]
    }
   ],
   "source": [
    "superUsers = ratings.groupby('user_id').isbn.count().sort_values(ascending=False)\n",
    "print(superUsers.size)"
   ]
  },
  {
   "cell_type": "markdown",
   "metadata": {},
   "source": [
    "Let us now consider the books that are available to us in our books dataset and users only whose information we have with us. This done because we simply cannot recommend books without any information. "
   ]
  },
  {
   "cell_type": "code",
   "execution_count": 36,
   "metadata": {},
   "outputs": [
    {
     "name": "stdout",
     "output_type": "stream",
     "text": [
      "(1149780, 3)\n",
      "(1017096, 3)\n"
     ]
    }
   ],
   "source": [
    "ratings_new=ratings[ratings.isbn.isin(books.isbn)]\n",
    "ratings_new=ratings_new[ratings_new.user_id.isin(users.user_id)]\n",
    "print(ratings.shape)\n",
    "print(ratings_new.shape)\n",
    "ratings =ratings_new"
   ]
  },
  {
   "cell_type": "markdown",
   "metadata": {},
   "source": [
    "Our main attribute here in this table is the rating table. Plotting it on a bar chart shows us that there are manu books that are rated zero than the other ratings. And, a rating zero books has no value to our evaluation. So, let us drop those recods."
   ]
  },
  {
   "cell_type": "code",
   "execution_count": 37,
   "metadata": {},
   "outputs": [
    {
     "data": {
      "image/png": "[encoded data removed]",
      "text/plain": [
       "<Figure size 720x360 with 1 Axes>"
      ]
     },
     "metadata": {
      "needs_background": "light"
     },
     "output_type": "display_data"
    }
   ],
   "source": [
    "rtg = ratings.book_rating.value_counts().sort_index()\n",
    "\n",
    "plt.figure(figsize=(10, 5))\n",
    "plt.rcParams.update({'font.size': 15}) # Set larger plot font size\n",
    "plt.bar(rtg.index, rtg.values)\n",
    "plt.xlabel('Rating')\n",
    "plt.ylabel('counts')\n",
    "plt.show()"
   ]
  },
  {
   "cell_type": "code",
   "execution_count": 38,
   "metadata": {},
   "outputs": [],
   "source": [
    "ratings = ratings[ratings.book_rating != 0]"
   ]
  },
  {
   "cell_type": "code",
   "execution_count": 39,
   "metadata": {},
   "outputs": [
    {
     "data": {
      "image/png": "[encoded data removed]",
      "text/plain": [
       "<Figure size 720x360 with 1 Axes>"
      ]
     },
     "metadata": {
      "needs_background": "light"
     },
     "output_type": "display_data"
    }
   ],
   "source": [
    "rtg = ratings.book_rating.value_counts().sort_index()\n",
    "plt.figure(figsize=(10, 5))\n",
    "plt.rcParams.update({'font.size': 15}) \n",
    "plt.bar(rtg.index, rtg.values)\n",
    "plt.xlabel('Rating')\n",
    "plt.ylabel('counts')\n",
    "plt.show()"
   ]
  },
  {
   "cell_type": "markdown",
   "metadata": {},
   "source": [
    "The dataset that we currently have is huge and inorder not to run into memory error we have further scrutinized our dataset by removing users who have not rated minimum  of 100 books."
   ]
  },
  {
   "cell_type": "code",
   "execution_count": 40,
   "metadata": {},
   "outputs": [],
   "source": [
    "n1 = ratings[\"user_id\"].value_counts()\n",
    "ratings = ratings[ratings['user_id'].isin(n1[n1 >= 100].index)]\n",
    "n2 = ratings[\"book_rating\"].value_counts()\n",
    "ratings = ratings[ratings['book_rating'].isin(n2[n2 >= 100].index)]"
   ]
  },
  {
   "cell_type": "code",
   "execution_count": 41,
   "metadata": {},
   "outputs": [
    {
     "data": {
      "text/plain": [
       "(101121, 3)"
      ]
     },
     "execution_count": 41,
     "metadata": {},
     "output_type": "execute_result"
    }
   ],
   "source": [
    "ratings.shape"
   ]
  },
  {
   "cell_type": "markdown",
   "metadata": {},
   "source": [
    "Now, let's combine book and rating dataset based on their ISBN bumbers and store into a new dataset called RESULT"
   ]
  },
  {
   "cell_type": "code",
   "execution_count": 42,
   "metadata": {},
   "outputs": [
    {
     "data": {
      "text/html": [
       "<div>\n",
       "<style scoped>\n",
       "    .dataframe tbody tr th:only-of-type {\n",
       "        vertical-align: middle;\n",
       "    }\n",
       "\n",
       "    .dataframe tbody tr th {\n",
       "        vertical-align: top;\n",
       "    }\n",
       "\n",
       "    .dataframe thead th {\n",
       "        text-align: right;\n",
       "    }\n",
       "</style>\n",
       "<table border=\"1\" class=\"dataframe\">\n",
       "  <thead>\n",
       "    <tr style=\"text-align: right;\">\n",
       "      <th></th>\n",
       "      <th>isbn</th>\n",
       "      <th>book_title</th>\n",
       "      <th>book_author</th>\n",
       "      <th>year_of_publication</th>\n",
       "      <th>publisher</th>\n",
       "      <th>user_id</th>\n",
       "      <th>book_rating</th>\n",
       "    </tr>\n",
       "  </thead>\n",
       "  <tbody>\n",
       "    <tr>\n",
       "      <th>0</th>\n",
       "      <td>0002005018</td>\n",
       "      <td>Clara Callan</td>\n",
       "      <td>Richard Bruce Wright</td>\n",
       "      <td>2001.0</td>\n",
       "      <td>HarperFlamingo Canada</td>\n",
       "      <td>11676</td>\n",
       "      <td>8</td>\n",
       "    </tr>\n",
       "    <tr>\n",
       "      <th>1</th>\n",
       "      <td>0374157065</td>\n",
       "      <td>Flu: The Story of the Great Influenza Pandemic...</td>\n",
       "      <td>Gina Bari Kolata</td>\n",
       "      <td>1999.0</td>\n",
       "      <td>Farrar Straus Giroux</td>\n",
       "      <td>110912</td>\n",
       "      <td>10</td>\n",
       "    </tr>\n",
       "    <tr>\n",
       "      <th>2</th>\n",
       "      <td>0374157065</td>\n",
       "      <td>Flu: The Story of the Great Influenza Pandemic...</td>\n",
       "      <td>Gina Bari Kolata</td>\n",
       "      <td>1999.0</td>\n",
       "      <td>Farrar Straus Giroux</td>\n",
       "      <td>197659</td>\n",
       "      <td>9</td>\n",
       "    </tr>\n",
       "    <tr>\n",
       "      <th>3</th>\n",
       "      <td>0399135782</td>\n",
       "      <td>The Kitchen God's Wife</td>\n",
       "      <td>Amy Tan</td>\n",
       "      <td>1991.0</td>\n",
       "      <td>Putnam Pub Group</td>\n",
       "      <td>11676</td>\n",
       "      <td>9</td>\n",
       "    </tr>\n",
       "    <tr>\n",
       "      <th>4</th>\n",
       "      <td>0399135782</td>\n",
       "      <td>The Kitchen God's Wife</td>\n",
       "      <td>Amy Tan</td>\n",
       "      <td>1991.0</td>\n",
       "      <td>Putnam Pub Group</td>\n",
       "      <td>46398</td>\n",
       "      <td>9</td>\n",
       "    </tr>\n",
       "    <tr>\n",
       "      <th>5</th>\n",
       "      <td>0399135782</td>\n",
       "      <td>The Kitchen God's Wife</td>\n",
       "      <td>Amy Tan</td>\n",
       "      <td>1991.0</td>\n",
       "      <td>Putnam Pub Group</td>\n",
       "      <td>230522</td>\n",
       "      <td>7</td>\n",
       "    </tr>\n",
       "    <tr>\n",
       "      <th>6</th>\n",
       "      <td>0399135782</td>\n",
       "      <td>The Kitchen God's Wife</td>\n",
       "      <td>Amy Tan</td>\n",
       "      <td>1991.0</td>\n",
       "      <td>Putnam Pub Group</td>\n",
       "      <td>245827</td>\n",
       "      <td>9</td>\n",
       "    </tr>\n",
       "    <tr>\n",
       "      <th>7</th>\n",
       "      <td>0425176428</td>\n",
       "      <td>What If?: The World's Foremost Military Histor...</td>\n",
       "      <td>Robert Cowley</td>\n",
       "      <td>2000.0</td>\n",
       "      <td>Berkley Publishing Group</td>\n",
       "      <td>52614</td>\n",
       "      <td>8</td>\n",
       "    </tr>\n",
       "    <tr>\n",
       "      <th>8</th>\n",
       "      <td>0671870432</td>\n",
       "      <td>PLEADING GUILTY</td>\n",
       "      <td>Scott Turow</td>\n",
       "      <td>1993.0</td>\n",
       "      <td>Audioworks</td>\n",
       "      <td>11676</td>\n",
       "      <td>8</td>\n",
       "    </tr>\n",
       "    <tr>\n",
       "      <th>9</th>\n",
       "      <td>0440234743</td>\n",
       "      <td>The Testament</td>\n",
       "      <td>John Grisham</td>\n",
       "      <td>1999.0</td>\n",
       "      <td>Dell</td>\n",
       "      <td>7346</td>\n",
       "      <td>9</td>\n",
       "    </tr>\n",
       "    <tr>\n",
       "      <th>10</th>\n",
       "      <td>0440234743</td>\n",
       "      <td>The Testament</td>\n",
       "      <td>John Grisham</td>\n",
       "      <td>1999.0</td>\n",
       "      <td>Dell</td>\n",
       "      <td>11676</td>\n",
       "      <td>9</td>\n",
       "    </tr>\n",
       "    <tr>\n",
       "      <th>11</th>\n",
       "      <td>0440234743</td>\n",
       "      <td>The Testament</td>\n",
       "      <td>John Grisham</td>\n",
       "      <td>1999.0</td>\n",
       "      <td>Dell</td>\n",
       "      <td>13552</td>\n",
       "      <td>8</td>\n",
       "    </tr>\n",
       "    <tr>\n",
       "      <th>12</th>\n",
       "      <td>0440234743</td>\n",
       "      <td>The Testament</td>\n",
       "      <td>John Grisham</td>\n",
       "      <td>1999.0</td>\n",
       "      <td>Dell</td>\n",
       "      <td>31315</td>\n",
       "      <td>10</td>\n",
       "    </tr>\n",
       "    <tr>\n",
       "      <th>13</th>\n",
       "      <td>0440234743</td>\n",
       "      <td>The Testament</td>\n",
       "      <td>John Grisham</td>\n",
       "      <td>1999.0</td>\n",
       "      <td>Dell</td>\n",
       "      <td>70666</td>\n",
       "      <td>7</td>\n",
       "    </tr>\n",
       "    <tr>\n",
       "      <th>14</th>\n",
       "      <td>0440234743</td>\n",
       "      <td>The Testament</td>\n",
       "      <td>John Grisham</td>\n",
       "      <td>1999.0</td>\n",
       "      <td>Dell</td>\n",
       "      <td>75819</td>\n",
       "      <td>7</td>\n",
       "    </tr>\n",
       "    <tr>\n",
       "      <th>15</th>\n",
       "      <td>0440234743</td>\n",
       "      <td>The Testament</td>\n",
       "      <td>John Grisham</td>\n",
       "      <td>1999.0</td>\n",
       "      <td>Dell</td>\n",
       "      <td>78973</td>\n",
       "      <td>7</td>\n",
       "    </tr>\n",
       "    <tr>\n",
       "      <th>16</th>\n",
       "      <td>0440234743</td>\n",
       "      <td>The Testament</td>\n",
       "      <td>John Grisham</td>\n",
       "      <td>1999.0</td>\n",
       "      <td>Dell</td>\n",
       "      <td>101209</td>\n",
       "      <td>7</td>\n",
       "    </tr>\n",
       "    <tr>\n",
       "      <th>17</th>\n",
       "      <td>0440234743</td>\n",
       "      <td>The Testament</td>\n",
       "      <td>John Grisham</td>\n",
       "      <td>1999.0</td>\n",
       "      <td>Dell</td>\n",
       "      <td>105979</td>\n",
       "      <td>5</td>\n",
       "    </tr>\n",
       "    <tr>\n",
       "      <th>18</th>\n",
       "      <td>0440234743</td>\n",
       "      <td>The Testament</td>\n",
       "      <td>John Grisham</td>\n",
       "      <td>1999.0</td>\n",
       "      <td>Dell</td>\n",
       "      <td>107784</td>\n",
       "      <td>9</td>\n",
       "    </tr>\n",
       "    <tr>\n",
       "      <th>19</th>\n",
       "      <td>0440234743</td>\n",
       "      <td>The Testament</td>\n",
       "      <td>John Grisham</td>\n",
       "      <td>1999.0</td>\n",
       "      <td>Dell</td>\n",
       "      <td>125519</td>\n",
       "      <td>8</td>\n",
       "    </tr>\n",
       "    <tr>\n",
       "      <th>20</th>\n",
       "      <td>0440234743</td>\n",
       "      <td>The Testament</td>\n",
       "      <td>John Grisham</td>\n",
       "      <td>1999.0</td>\n",
       "      <td>Dell</td>\n",
       "      <td>159506</td>\n",
       "      <td>8</td>\n",
       "    </tr>\n",
       "    <tr>\n",
       "      <th>21</th>\n",
       "      <td>0440234743</td>\n",
       "      <td>The Testament</td>\n",
       "      <td>John Grisham</td>\n",
       "      <td>1999.0</td>\n",
       "      <td>Dell</td>\n",
       "      <td>193898</td>\n",
       "      <td>9</td>\n",
       "    </tr>\n",
       "    <tr>\n",
       "      <th>22</th>\n",
       "      <td>0440234743</td>\n",
       "      <td>The Testament</td>\n",
       "      <td>John Grisham</td>\n",
       "      <td>1999.0</td>\n",
       "      <td>Dell</td>\n",
       "      <td>214786</td>\n",
       "      <td>9</td>\n",
       "    </tr>\n",
       "    <tr>\n",
       "      <th>23</th>\n",
       "      <td>0440234743</td>\n",
       "      <td>The Testament</td>\n",
       "      <td>John Grisham</td>\n",
       "      <td>1999.0</td>\n",
       "      <td>Dell</td>\n",
       "      <td>216683</td>\n",
       "      <td>9</td>\n",
       "    </tr>\n",
       "    <tr>\n",
       "      <th>24</th>\n",
       "      <td>0440234743</td>\n",
       "      <td>The Testament</td>\n",
       "      <td>John Grisham</td>\n",
       "      <td>1999.0</td>\n",
       "      <td>Dell</td>\n",
       "      <td>229011</td>\n",
       "      <td>7</td>\n",
       "    </tr>\n",
       "    <tr>\n",
       "      <th>25</th>\n",
       "      <td>0440234743</td>\n",
       "      <td>The Testament</td>\n",
       "      <td>John Grisham</td>\n",
       "      <td>1999.0</td>\n",
       "      <td>Dell</td>\n",
       "      <td>232131</td>\n",
       "      <td>7</td>\n",
       "    </tr>\n",
       "    <tr>\n",
       "      <th>26</th>\n",
       "      <td>0440234743</td>\n",
       "      <td>The Testament</td>\n",
       "      <td>John Grisham</td>\n",
       "      <td>1999.0</td>\n",
       "      <td>Dell</td>\n",
       "      <td>232945</td>\n",
       "      <td>9</td>\n",
       "    </tr>\n",
       "    <tr>\n",
       "      <th>27</th>\n",
       "      <td>0440234743</td>\n",
       "      <td>The Testament</td>\n",
       "      <td>John Grisham</td>\n",
       "      <td>1999.0</td>\n",
       "      <td>Dell</td>\n",
       "      <td>240567</td>\n",
       "      <td>5</td>\n",
       "    </tr>\n",
       "    <tr>\n",
       "      <th>28</th>\n",
       "      <td>0440234743</td>\n",
       "      <td>The Testament</td>\n",
       "      <td>John Grisham</td>\n",
       "      <td>1999.0</td>\n",
       "      <td>Dell</td>\n",
       "      <td>241666</td>\n",
       "      <td>8</td>\n",
       "    </tr>\n",
       "    <tr>\n",
       "      <th>29</th>\n",
       "      <td>0440234743</td>\n",
       "      <td>The Testament</td>\n",
       "      <td>John Grisham</td>\n",
       "      <td>1999.0</td>\n",
       "      <td>Dell</td>\n",
       "      <td>241980</td>\n",
       "      <td>9</td>\n",
       "    </tr>\n",
       "    <tr>\n",
       "      <th>...</th>\n",
       "      <td>...</td>\n",
       "      <td>...</td>\n",
       "      <td>...</td>\n",
       "      <td>...</td>\n",
       "      <td>...</td>\n",
       "      <td>...</td>\n",
       "      <td>...</td>\n",
       "    </tr>\n",
       "    <tr>\n",
       "      <th>101091</th>\n",
       "      <td>0314012257</td>\n",
       "      <td>Human Physiology: From Cells to Systems</td>\n",
       "      <td>Lauralee Sherwood</td>\n",
       "      <td>1992.0</td>\n",
       "      <td>West Publishing Company</td>\n",
       "      <td>245410</td>\n",
       "      <td>8</td>\n",
       "    </tr>\n",
       "    <tr>\n",
       "      <th>101092</th>\n",
       "      <td>0345337921</td>\n",
       "      <td>Jewels in the Dark</td>\n",
       "      <td>Rusty Hallock</td>\n",
       "      <td>1986.0</td>\n",
       "      <td>Ballantine Books</td>\n",
       "      <td>245410</td>\n",
       "      <td>9</td>\n",
       "    </tr>\n",
       "    <tr>\n",
       "      <th>101093</th>\n",
       "      <td>0394722183</td>\n",
       "      <td>Masks</td>\n",
       "      <td>Fumiko Enchi</td>\n",
       "      <td>1983.0</td>\n",
       "      <td>Vintage Books USA</td>\n",
       "      <td>245410</td>\n",
       "      <td>8</td>\n",
       "    </tr>\n",
       "    <tr>\n",
       "      <th>101094</th>\n",
       "      <td>0399505210</td>\n",
       "      <td>Some Prefer Nettles</td>\n",
       "      <td>Junichiro Tanizaki</td>\n",
       "      <td>1981.0</td>\n",
       "      <td>Berkley Pub Group</td>\n",
       "      <td>245410</td>\n",
       "      <td>8</td>\n",
       "    </tr>\n",
       "    <tr>\n",
       "      <th>101095</th>\n",
       "      <td>0534145329</td>\n",
       "      <td>Single Variable Calculus</td>\n",
       "      <td>James Stewart</td>\n",
       "      <td>1991.0</td>\n",
       "      <td>Brooks/Cole Publishing Company</td>\n",
       "      <td>245410</td>\n",
       "      <td>6</td>\n",
       "    </tr>\n",
       "    <tr>\n",
       "      <th>101096</th>\n",
       "      <td>0553092995</td>\n",
       "      <td>Lady of the Trillium</td>\n",
       "      <td>Marion Zimmer Bradley</td>\n",
       "      <td>1995.0</td>\n",
       "      <td>Bantam Books</td>\n",
       "      <td>245410</td>\n",
       "      <td>9</td>\n",
       "    </tr>\n",
       "    <tr>\n",
       "      <th>101097</th>\n",
       "      <td>0590404946</td>\n",
       "      <td>The little gymnast</td>\n",
       "      <td>Sheila Haigh</td>\n",
       "      <td>1987.0</td>\n",
       "      <td>Scholastic Inc</td>\n",
       "      <td>245410</td>\n",
       "      <td>8</td>\n",
       "    </tr>\n",
       "    <tr>\n",
       "      <th>101098</th>\n",
       "      <td>0716726041</td>\n",
       "      <td>An Introduction to Genetic Analysis</td>\n",
       "      <td>Anthony J. F. Griffiths</td>\n",
       "      <td>1996.0</td>\n",
       "      <td>W.H. Freeman &amp;amp; Company</td>\n",
       "      <td>245410</td>\n",
       "      <td>7</td>\n",
       "    </tr>\n",
       "    <tr>\n",
       "      <th>101099</th>\n",
       "      <td>0804810702</td>\n",
       "      <td>Wild Geese</td>\n",
       "      <td>Ogai Mori</td>\n",
       "      <td>1974.0</td>\n",
       "      <td>Tuttle Publishing</td>\n",
       "      <td>245410</td>\n",
       "      <td>7</td>\n",
       "    </tr>\n",
       "    <tr>\n",
       "      <th>101100</th>\n",
       "      <td>0804813736</td>\n",
       "      <td>Kanji and Kana: A Handbook and Dictionary of t...</td>\n",
       "      <td>Wolfgang Hadamitzky</td>\n",
       "      <td>1982.0</td>\n",
       "      <td>Tuttle Pub</td>\n",
       "      <td>245410</td>\n",
       "      <td>9</td>\n",
       "    </tr>\n",
       "    <tr>\n",
       "      <th>101101</th>\n",
       "      <td>0805318801</td>\n",
       "      <td>Biology (Benjamin/Cummings Series in the Life ...</td>\n",
       "      <td>Neil A. Campbell</td>\n",
       "      <td>1993.0</td>\n",
       "      <td>Addison-Wesley Pub Co</td>\n",
       "      <td>245410</td>\n",
       "      <td>10</td>\n",
       "    </tr>\n",
       "    <tr>\n",
       "      <th>101102</th>\n",
       "      <td>0805385355</td>\n",
       "      <td>Microbiology : An Introduction (6th Ed) (Windo...</td>\n",
       "      <td>Gerard J. Tortora</td>\n",
       "      <td>1997.0</td>\n",
       "      <td>Addison Wesley Publishing Company</td>\n",
       "      <td>245410</td>\n",
       "      <td>9</td>\n",
       "    </tr>\n",
       "    <tr>\n",
       "      <th>101103</th>\n",
       "      <td>0824811763</td>\n",
       "      <td>Confessions of Love</td>\n",
       "      <td>Uno Chiyo</td>\n",
       "      <td>1989.0</td>\n",
       "      <td>University of Hawaii Press</td>\n",
       "      <td>245410</td>\n",
       "      <td>10</td>\n",
       "    </tr>\n",
       "    <tr>\n",
       "      <th>101104</th>\n",
       "      <td>0848726286</td>\n",
       "      <td>Cooking Light Superfast Suppers: Speedy Soluti...</td>\n",
       "      <td>Anne C. Cain</td>\n",
       "      <td>2003.0</td>\n",
       "      <td>Oxmoor House</td>\n",
       "      <td>245410</td>\n",
       "      <td>8</td>\n",
       "    </tr>\n",
       "    <tr>\n",
       "      <th>101105</th>\n",
       "      <td>0867208600</td>\n",
       "      <td>Essentials of Molecular Biology</td>\n",
       "      <td>George M. Malacinski</td>\n",
       "      <td>1998.0</td>\n",
       "      <td>Jones &amp;amp; Bartlett Publishers</td>\n",
       "      <td>245410</td>\n",
       "      <td>10</td>\n",
       "    </tr>\n",
       "    <tr>\n",
       "      <th>101106</th>\n",
       "      <td>0874849098</td>\n",
       "      <td>Discovering Anthropology</td>\n",
       "      <td>Daniel  Gross</td>\n",
       "      <td>1992.0</td>\n",
       "      <td>McGraw-Hill Humanities/Social Sciences/Languages</td>\n",
       "      <td>245410</td>\n",
       "      <td>9</td>\n",
       "    </tr>\n",
       "    <tr>\n",
       "      <th>101107</th>\n",
       "      <td>0878932445</td>\n",
       "      <td>Developmental Biology</td>\n",
       "      <td>Scott F. Gilbert</td>\n",
       "      <td>1997.0</td>\n",
       "      <td>J. A. Majors Company</td>\n",
       "      <td>245410</td>\n",
       "      <td>9</td>\n",
       "    </tr>\n",
       "    <tr>\n",
       "      <th>101108</th>\n",
       "      <td>0879758368</td>\n",
       "      <td>The Book of Scientific Anecdotes</td>\n",
       "      <td>Adrian Berry</td>\n",
       "      <td>1993.0</td>\n",
       "      <td>Prometheus Books</td>\n",
       "      <td>245410</td>\n",
       "      <td>7</td>\n",
       "    </tr>\n",
       "    <tr>\n",
       "      <th>101109</th>\n",
       "      <td>0887290523</td>\n",
       "      <td>Langenscheidt's Standard Spanish Dictionary : ...</td>\n",
       "      <td>C. Smith</td>\n",
       "      <td>1989.0</td>\n",
       "      <td>Langenscheidt Publishers</td>\n",
       "      <td>245410</td>\n",
       "      <td>8</td>\n",
       "    </tr>\n",
       "    <tr>\n",
       "      <th>101110</th>\n",
       "      <td>1560250968</td>\n",
       "      <td>Panther: A Novel</td>\n",
       "      <td>Melvin Van Peebles</td>\n",
       "      <td>1995.0</td>\n",
       "      <td>Pub Group West</td>\n",
       "      <td>245410</td>\n",
       "      <td>8</td>\n",
       "    </tr>\n",
       "    <tr>\n",
       "      <th>101111</th>\n",
       "      <td>1576106179</td>\n",
       "      <td>HTML Black Book: The Programmer's Complete HTM...</td>\n",
       "      <td>Steven Holzner</td>\n",
       "      <td>2000.0</td>\n",
       "      <td>Coriolis Group Books</td>\n",
       "      <td>245410</td>\n",
       "      <td>9</td>\n",
       "    </tr>\n",
       "    <tr>\n",
       "      <th>101112</th>\n",
       "      <td>4770015240</td>\n",
       "      <td>Child of Fortune</td>\n",
       "      <td>Yuko Tsushima</td>\n",
       "      <td>1992.0</td>\n",
       "      <td>Kodansha International (JPN)</td>\n",
       "      <td>245410</td>\n",
       "      <td>8</td>\n",
       "    </tr>\n",
       "    <tr>\n",
       "      <th>101113</th>\n",
       "      <td>0965018512</td>\n",
       "      <td>Secret Windows: Essays and Fiction on the Craf...</td>\n",
       "      <td>Stephen King</td>\n",
       "      <td>2000.0</td>\n",
       "      <td>Quality Paperback Bookclub</td>\n",
       "      <td>110973</td>\n",
       "      <td>9</td>\n",
       "    </tr>\n",
       "    <tr>\n",
       "      <th>101114</th>\n",
       "      <td>1561709085</td>\n",
       "      <td>Inner Peace for Busy People: Simple Strategies...</td>\n",
       "      <td>Joan, Ph.D. Borysenko</td>\n",
       "      <td>2001.0</td>\n",
       "      <td>Hay House Audio Books</td>\n",
       "      <td>250405</td>\n",
       "      <td>9</td>\n",
       "    </tr>\n",
       "    <tr>\n",
       "      <th>101115</th>\n",
       "      <td>0439230209</td>\n",
       "      <td>Raccoons on the Roof (Animal Ark)</td>\n",
       "      <td>Ben M. Baglio</td>\n",
       "      <td>2001.0</td>\n",
       "      <td>Scholastic</td>\n",
       "      <td>266056</td>\n",
       "      <td>7</td>\n",
       "    </tr>\n",
       "    <tr>\n",
       "      <th>101116</th>\n",
       "      <td>0451205618</td>\n",
       "      <td>The Banished Bride (Signet Regency Romance)</td>\n",
       "      <td>Andrea Pickens</td>\n",
       "      <td>2002.0</td>\n",
       "      <td>Signet Book</td>\n",
       "      <td>268110</td>\n",
       "      <td>7</td>\n",
       "    </tr>\n",
       "    <tr>\n",
       "      <th>101117</th>\n",
       "      <td>0553211994</td>\n",
       "      <td>The Jungle Books and Just So Stories</td>\n",
       "      <td>Kipling Rudyard</td>\n",
       "      <td>1986.0</td>\n",
       "      <td>Bantam Classics</td>\n",
       "      <td>269566</td>\n",
       "      <td>8</td>\n",
       "    </tr>\n",
       "    <tr>\n",
       "      <th>101118</th>\n",
       "      <td>0843101083</td>\n",
       "      <td>Off-The-Wall (Mad Libs, No. 6)</td>\n",
       "      <td>Roger Price</td>\n",
       "      <td>1970.0</td>\n",
       "      <td>Price Stern Sloan</td>\n",
       "      <td>269566</td>\n",
       "      <td>6</td>\n",
       "    </tr>\n",
       "    <tr>\n",
       "      <th>101119</th>\n",
       "      <td>0395611563</td>\n",
       "      <td>Walking With the Great Apes: Jane Goodall, Dia...</td>\n",
       "      <td>Sy Montgomery</td>\n",
       "      <td>1992.0</td>\n",
       "      <td>Mariner Books</td>\n",
       "      <td>270713</td>\n",
       "      <td>10</td>\n",
       "    </tr>\n",
       "    <tr>\n",
       "      <th>101120</th>\n",
       "      <td>1845170423</td>\n",
       "      <td>Cocktail Classics</td>\n",
       "      <td>David Biggs</td>\n",
       "      <td>2004.0</td>\n",
       "      <td>Connaught</td>\n",
       "      <td>275970</td>\n",
       "      <td>7</td>\n",
       "    </tr>\n",
       "  </tbody>\n",
       "</table>\n",
       "<p>101121 rows × 7 columns</p>\n",
       "</div>"
      ],
      "text/plain": [
       "              isbn                                         book_title  \\\n",
       "0       0002005018                                       Clara Callan   \n",
       "1       0374157065  Flu: The Story of the Great Influenza Pandemic...   \n",
       "2       0374157065  Flu: The Story of the Great Influenza Pandemic...   \n",
       "3       0399135782                             The Kitchen God's Wife   \n",
       "4       0399135782                             The Kitchen God's Wife   \n",
       "5       0399135782                             The Kitchen God's Wife   \n",
       "6       0399135782                             The Kitchen God's Wife   \n",
       "7       0425176428  What If?: The World's Foremost Military Histor...   \n",
       "8       0671870432                                    PLEADING GUILTY   \n",
       "9       0440234743                                      The Testament   \n",
       "10      0440234743                                      The Testament   \n",
       "11      0440234743                                      The Testament   \n",
       "12      0440234743                                      The Testament   \n",
       "13      0440234743                                      The Testament   \n",
       "14      0440234743                                      The Testament   \n",
       "15      0440234743                                      The Testament   \n",
       "16      0440234743                                      The Testament   \n",
       "17      0440234743                                      The Testament   \n",
       "18      0440234743                                      The Testament   \n",
       "19      0440234743                                      The Testament   \n",
       "20      0440234743                                      The Testament   \n",
       "21      0440234743                                      The Testament   \n",
       "22      0440234743                                      The Testament   \n",
       "23      0440234743                                      The Testament   \n",
       "24      0440234743                                      The Testament   \n",
       "25      0440234743                                      The Testament   \n",
       "26      0440234743                                      The Testament   \n",
       "27      0440234743                                      The Testament   \n",
       "28      0440234743                                      The Testament   \n",
       "29      0440234743                                      The Testament   \n",
       "...            ...                                                ...   \n",
       "101091  0314012257            Human Physiology: From Cells to Systems   \n",
       "101092  0345337921                                 Jewels in the Dark   \n",
       "101093  0394722183                                              Masks   \n",
       "101094  0399505210                                Some Prefer Nettles   \n",
       "101095  0534145329                           Single Variable Calculus   \n",
       "101096  0553092995                               Lady of the Trillium   \n",
       "101097  0590404946                                 The little gymnast   \n",
       "101098  0716726041                An Introduction to Genetic Analysis   \n",
       "101099  0804810702                                         Wild Geese   \n",
       "101100  0804813736  Kanji and Kana: A Handbook and Dictionary of t...   \n",
       "101101  0805318801  Biology (Benjamin/Cummings Series in the Life ...   \n",
       "101102  0805385355  Microbiology : An Introduction (6th Ed) (Windo...   \n",
       "101103  0824811763                                Confessions of Love   \n",
       "101104  0848726286  Cooking Light Superfast Suppers: Speedy Soluti...   \n",
       "101105  0867208600                    Essentials of Molecular Biology   \n",
       "101106  0874849098                           Discovering Anthropology   \n",
       "101107  0878932445                              Developmental Biology   \n",
       "101108  0879758368                   The Book of Scientific Anecdotes   \n",
       "101109  0887290523  Langenscheidt's Standard Spanish Dictionary : ...   \n",
       "101110  1560250968                                   Panther: A Novel   \n",
       "101111  1576106179  HTML Black Book: The Programmer's Complete HTM...   \n",
       "101112  4770015240                                   Child of Fortune   \n",
       "101113  0965018512  Secret Windows: Essays and Fiction on the Craf...   \n",
       "101114  1561709085  Inner Peace for Busy People: Simple Strategies...   \n",
       "101115  0439230209                  Raccoons on the Roof (Animal Ark)   \n",
       "101116  0451205618        The Banished Bride (Signet Regency Romance)   \n",
       "101117  0553211994               The Jungle Books and Just So Stories   \n",
       "101118  0843101083                     Off-The-Wall (Mad Libs, No. 6)   \n",
       "101119  0395611563  Walking With the Great Apes: Jane Goodall, Dia...   \n",
       "101120  1845170423                                  Cocktail Classics   \n",
       "\n",
       "                    book_author  year_of_publication  \\\n",
       "0          Richard Bruce Wright               2001.0   \n",
       "1              Gina Bari Kolata               1999.0   \n",
       "2              Gina Bari Kolata               1999.0   \n",
       "3                       Amy Tan               1991.0   \n",
       "4                       Amy Tan               1991.0   \n",
       "5                       Amy Tan               1991.0   \n",
       "6                       Amy Tan               1991.0   \n",
       "7                 Robert Cowley               2000.0   \n",
       "8                   Scott Turow               1993.0   \n",
       "9                  John Grisham               1999.0   \n",
       "10                 John Grisham               1999.0   \n",
       "11                 John Grisham               1999.0   \n",
       "12                 John Grisham               1999.0   \n",
       "13                 John Grisham               1999.0   \n",
       "14                 John Grisham               1999.0   \n",
       "15                 John Grisham               1999.0   \n",
       "16                 John Grisham               1999.0   \n",
       "17                 John Grisham               1999.0   \n",
       "18                 John Grisham               1999.0   \n",
       "19                 John Grisham               1999.0   \n",
       "20                 John Grisham               1999.0   \n",
       "21                 John Grisham               1999.0   \n",
       "22                 John Grisham               1999.0   \n",
       "23                 John Grisham               1999.0   \n",
       "24                 John Grisham               1999.0   \n",
       "25                 John Grisham               1999.0   \n",
       "26                 John Grisham               1999.0   \n",
       "27                 John Grisham               1999.0   \n",
       "28                 John Grisham               1999.0   \n",
       "29                 John Grisham               1999.0   \n",
       "...                         ...                  ...   \n",
       "101091        Lauralee Sherwood               1992.0   \n",
       "101092            Rusty Hallock               1986.0   \n",
       "101093             Fumiko Enchi               1983.0   \n",
       "101094       Junichiro Tanizaki               1981.0   \n",
       "101095            James Stewart               1991.0   \n",
       "101096    Marion Zimmer Bradley               1995.0   \n",
       "101097             Sheila Haigh               1987.0   \n",
       "101098  Anthony J. F. Griffiths               1996.0   \n",
       "101099                Ogai Mori               1974.0   \n",
       "101100      Wolfgang Hadamitzky               1982.0   \n",
       "101101         Neil A. Campbell               1993.0   \n",
       "101102        Gerard J. Tortora               1997.0   \n",
       "101103                Uno Chiyo               1989.0   \n",
       "101104             Anne C. Cain               2003.0   \n",
       "101105     George M. Malacinski               1998.0   \n",
       "101106            Daniel  Gross               1992.0   \n",
       "101107         Scott F. Gilbert               1997.0   \n",
       "101108             Adrian Berry               1993.0   \n",
       "101109                 C. Smith               1989.0   \n",
       "101110       Melvin Van Peebles               1995.0   \n",
       "101111           Steven Holzner               2000.0   \n",
       "101112            Yuko Tsushima               1992.0   \n",
       "101113             Stephen King               2000.0   \n",
       "101114    Joan, Ph.D. Borysenko               2001.0   \n",
       "101115            Ben M. Baglio               2001.0   \n",
       "101116           Andrea Pickens               2002.0   \n",
       "101117          Kipling Rudyard               1986.0   \n",
       "101118              Roger Price               1970.0   \n",
       "101119            Sy Montgomery               1992.0   \n",
       "101120              David Biggs               2004.0   \n",
       "\n",
       "                                               publisher  user_id  book_rating  \n",
       "0                                  HarperFlamingo Canada    11676            8  \n",
       "1                                   Farrar Straus Giroux   110912           10  \n",
       "2                                   Farrar Straus Giroux   197659            9  \n",
       "3                                       Putnam Pub Group    11676            9  \n",
       "4                                       Putnam Pub Group    46398            9  \n",
       "5                                       Putnam Pub Group   230522            7  \n",
       "6                                       Putnam Pub Group   245827            9  \n",
       "7                               Berkley Publishing Group    52614            8  \n",
       "8                                             Audioworks    11676            8  \n",
       "9                                                   Dell     7346            9  \n",
       "10                                                  Dell    11676            9  \n",
       "11                                                  Dell    13552            8  \n",
       "12                                                  Dell    31315           10  \n",
       "13                                                  Dell    70666            7  \n",
       "14                                                  Dell    75819            7  \n",
       "15                                                  Dell    78973            7  \n",
       "16                                                  Dell   101209            7  \n",
       "17                                                  Dell   105979            5  \n",
       "18                                                  Dell   107784            9  \n",
       "19                                                  Dell   125519            8  \n",
       "20                                                  Dell   159506            8  \n",
       "21                                                  Dell   193898            9  \n",
       "22                                                  Dell   214786            9  \n",
       "23                                                  Dell   216683            9  \n",
       "24                                                  Dell   229011            7  \n",
       "25                                                  Dell   232131            7  \n",
       "26                                                  Dell   232945            9  \n",
       "27                                                  Dell   240567            5  \n",
       "28                                                  Dell   241666            8  \n",
       "29                                                  Dell   241980            9  \n",
       "...                                                  ...      ...          ...  \n",
       "101091                           West Publishing Company   245410            8  \n",
       "101092                                  Ballantine Books   245410            9  \n",
       "101093                                 Vintage Books USA   245410            8  \n",
       "101094                                 Berkley Pub Group   245410            8  \n",
       "101095                    Brooks/Cole Publishing Company   245410            6  \n",
       "101096                                      Bantam Books   245410            9  \n",
       "101097                                    Scholastic Inc   245410            8  \n",
       "101098                        W.H. Freeman &amp; Company   245410            7  \n",
       "101099                                 Tuttle Publishing   245410            7  \n",
       "101100                                        Tuttle Pub   245410            9  \n",
       "101101                             Addison-Wesley Pub Co   245410           10  \n",
       "101102                 Addison Wesley Publishing Company   245410            9  \n",
       "101103                        University of Hawaii Press   245410           10  \n",
       "101104                                      Oxmoor House   245410            8  \n",
       "101105                   Jones &amp; Bartlett Publishers   245410           10  \n",
       "101106  McGraw-Hill Humanities/Social Sciences/Languages   245410            9  \n",
       "101107                              J. A. Majors Company   245410            9  \n",
       "101108                                  Prometheus Books   245410            7  \n",
       "101109                          Langenscheidt Publishers   245410            8  \n",
       "101110                                    Pub Group West   245410            8  \n",
       "101111                              Coriolis Group Books   245410            9  \n",
       "101112                      Kodansha International (JPN)   245410            8  \n",
       "101113                        Quality Paperback Bookclub   110973            9  \n",
       "101114                             Hay House Audio Books   250405            9  \n",
       "101115                                        Scholastic   266056            7  \n",
       "101116                                       Signet Book   268110            7  \n",
       "101117                                   Bantam Classics   269566            8  \n",
       "101118                                 Price Stern Sloan   269566            6  \n",
       "101119                                     Mariner Books   270713           10  \n",
       "101120                                         Connaught   275970            7  \n",
       "\n",
       "[101121 rows x 7 columns]"
      ]
     },
     "execution_count": 42,
     "metadata": {},
     "output_type": "execute_result"
    }
   ],
   "source": [
    "result = pd.merge(books, ratings, how='right', on=['isbn', 'isbn'])\n",
    "result"
   ]
  },
  {
   "cell_type": "markdown",
   "metadata": {},
   "source": [
    "We have aware of the problem, a single book having mutiple isbn number just because they were either released by a different publisher or it is a different version. We must consider such book as a single unique book. For this first we have identified books with same title and grouped them together and then selected first book's occurance ISBN and assigned its ISBN to other versions of the book."
   ]
  },
  {
   "cell_type": "code",
   "execution_count": 43,
   "metadata": {},
   "outputs": [
    {
     "data": {
      "text/plain": [
       "1     56521\n",
       "2      2962\n",
       "3       512\n",
       "4       134\n",
       "5        49\n",
       "6        14\n",
       "7         9\n",
       "8         5\n",
       "11        1\n",
       "9         1\n",
       "Name: isbn, dtype: int64"
      ]
     },
     "execution_count": 43,
     "metadata": {},
     "output_type": "execute_result"
    }
   ],
   "source": [
    "books_multiple_isbns = result.groupby('book_title').isbn.nunique()\n",
    "books_multiple_isbns.value_counts()"
   ]
  },
  {
   "cell_type": "code",
   "execution_count": 44,
   "metadata": {},
   "outputs": [
    {
     "data": {
      "text/plain": [
       "6.0"
      ]
     },
     "execution_count": 44,
     "metadata": {},
     "output_type": "execute_result"
    }
   ],
   "source": [
    "has_multiple_isbns = books_multiple_isbns.where(books_multiple_isbns>1)\n",
    "has_multiple_isbns.dropna(inplace=True)\n",
    "has_multiple_isbns['Little Women']"
   ]
  },
  {
   "cell_type": "code",
   "execution_count": 45,
   "metadata": {},
   "outputs": [
    {
     "name": "stdout",
     "output_type": "stream",
     "text": [
      "Wall time: 34.1 s\n"
     ]
    }
   ],
   "source": [
    "def isbn_dict(df):\n",
    "    dict_title_isbn = {}\n",
    "    for title in has_multiple_isbns.index:\n",
    "        isbn_series = df.loc[df.book_title==title].isbn.unique()\n",
    "        dict_title_isbn[title] = isbn_series.tolist()\n",
    "    return dict_title_isbn\n",
    "%time dict_unique_isbn = isbn_dict(result)\n",
    "\n",
    "with open('isbn_dict.pickle', 'wb') as handle:\n",
    "    pickle.dump(dict_unique_isbn, handle, protocol=pickle.HIGHEST_PROTOCOL)"
   ]
  },
  {
   "cell_type": "code",
   "execution_count": 46,
   "metadata": {},
   "outputs": [],
   "source": [
    "with open('isbn_dict.pickle', 'rb') as handle:\n",
    "    isbn_dict = pickle.load(handle)"
   ]
  },
  {
   "cell_type": "code",
   "execution_count": 47,
   "metadata": {},
   "outputs": [
    {
     "name": "stdout",
     "output_type": "stream",
     "text": [
      "Wall time: 2.32 s\n"
     ]
    }
   ],
   "source": [
    "def unique_isbn_col(df):\n",
    "    df['unique_isbn'] = df.apply(lambda row: isbn_dict[row.book_title][0] if row.book_title in isbn_dict.keys() else row.isbn, axis=1)\n",
    "    return df\n",
    "%time result = unique_isbn_col(result)"
   ]
  },
  {
   "cell_type": "code",
   "execution_count": 48,
   "metadata": {},
   "outputs": [
    {
     "data": {
      "text/html": [
       "<div>\n",
       "<style scoped>\n",
       "    .dataframe tbody tr th:only-of-type {\n",
       "        vertical-align: middle;\n",
       "    }\n",
       "\n",
       "    .dataframe tbody tr th {\n",
       "        vertical-align: top;\n",
       "    }\n",
       "\n",
       "    .dataframe thead th {\n",
       "        text-align: right;\n",
       "    }\n",
       "</style>\n",
       "<table border=\"1\" class=\"dataframe\">\n",
       "  <thead>\n",
       "    <tr style=\"text-align: right;\">\n",
       "      <th></th>\n",
       "      <th>isbn</th>\n",
       "      <th>book_title</th>\n",
       "      <th>book_author</th>\n",
       "      <th>year_of_publication</th>\n",
       "      <th>publisher</th>\n",
       "      <th>user_id</th>\n",
       "      <th>book_rating</th>\n",
       "      <th>unique_isbn</th>\n",
       "    </tr>\n",
       "  </thead>\n",
       "  <tbody>\n",
       "    <tr>\n",
       "      <th>22320</th>\n",
       "      <td>0590203509</td>\n",
       "      <td>Little Women</td>\n",
       "      <td>Louisa May Alcott</td>\n",
       "      <td>1994.0</td>\n",
       "      <td>Scholastic</td>\n",
       "      <td>147847</td>\n",
       "      <td>5</td>\n",
       "      <td>0590203509</td>\n",
       "    </tr>\n",
       "    <tr>\n",
       "      <th>22321</th>\n",
       "      <td>0590203509</td>\n",
       "      <td>Little Women</td>\n",
       "      <td>Louisa May Alcott</td>\n",
       "      <td>1994.0</td>\n",
       "      <td>Scholastic</td>\n",
       "      <td>184532</td>\n",
       "      <td>10</td>\n",
       "      <td>0590203509</td>\n",
       "    </tr>\n",
       "    <tr>\n",
       "      <th>51104</th>\n",
       "      <td>0451529308</td>\n",
       "      <td>Little Women</td>\n",
       "      <td>Louisa May Alcott</td>\n",
       "      <td>2004.0</td>\n",
       "      <td>Signet Classics</td>\n",
       "      <td>274301</td>\n",
       "      <td>10</td>\n",
       "      <td>0590203509</td>\n",
       "    </tr>\n",
       "    <tr>\n",
       "      <th>51270</th>\n",
       "      <td>0451518144</td>\n",
       "      <td>Little Women</td>\n",
       "      <td>Louisa May Alcott</td>\n",
       "      <td>1983.0</td>\n",
       "      <td>Signet Book</td>\n",
       "      <td>251843</td>\n",
       "      <td>10</td>\n",
       "      <td>0590203509</td>\n",
       "    </tr>\n",
       "    <tr>\n",
       "      <th>59181</th>\n",
       "      <td>0785788727</td>\n",
       "      <td>Little Women</td>\n",
       "      <td>Louisa May Alcott</td>\n",
       "      <td>1999.0</td>\n",
       "      <td>Sagebrush Bound</td>\n",
       "      <td>36907</td>\n",
       "      <td>10</td>\n",
       "      <td>0590203509</td>\n",
       "    </tr>\n",
       "  </tbody>\n",
       "</table>\n",
       "</div>"
      ],
      "text/plain": [
       "             isbn    book_title        book_author  year_of_publication  \\\n",
       "22320  0590203509  Little Women  Louisa May Alcott               1994.0   \n",
       "22321  0590203509  Little Women  Louisa May Alcott               1994.0   \n",
       "51104  0451529308  Little Women  Louisa May Alcott               2004.0   \n",
       "51270  0451518144  Little Women  Louisa May Alcott               1983.0   \n",
       "59181  0785788727  Little Women  Louisa May Alcott               1999.0   \n",
       "\n",
       "             publisher  user_id  book_rating unique_isbn  \n",
       "22320       Scholastic   147847            5  0590203509  \n",
       "22321       Scholastic   184532           10  0590203509  \n",
       "51104  Signet Classics   274301           10  0590203509  \n",
       "51270      Signet Book   251843           10  0590203509  \n",
       "59181  Sagebrush Bound    36907           10  0590203509  "
      ]
     },
     "execution_count": 48,
     "metadata": {},
     "output_type": "execute_result"
    }
   ],
   "source": [
    "result[result.book_title=='Little Women'].head()"
   ]
  },
  {
   "cell_type": "markdown",
   "metadata": {},
   "source": [
    "Dropping duplicate values to create the matrix"
   ]
  },
  {
   "cell_type": "code",
   "execution_count": 49,
   "metadata": {},
   "outputs": [],
   "source": [
    "items_wo_duplicates = result.drop_duplicates(['book_title', 'unique_isbn'])"
   ]
  },
  {
   "cell_type": "markdown",
   "metadata": {},
   "source": [
    "# MEMORY BASED APPROACH"
   ]
  },
  {
   "cell_type": "markdown",
   "metadata": {},
   "source": [
    "Now, let's create a matrix with user_id as rows and columns as unique_isbn. By this we get a matrix which is similar to our DT matrix. And, build a memory based approach and make top 10 recommendation."
   ]
  },
  {
   "cell_type": "code",
   "execution_count": 50,
   "metadata": {},
   "outputs": [],
   "source": [
    "ratings_mat = items_wo_duplicates.pivot(index = \"user_id\", columns =\"unique_isbn\", values = \"book_rating\" )\n",
    "user = ratings_mat.index\n",
    "ISBN = ratings_mat.columns"
   ]
  },
  {
   "cell_type": "code",
   "execution_count": 51,
   "metadata": {},
   "outputs": [
    {
     "name": "stdout",
     "output_type": "stream",
     "text": [
      "(438, 60208)\n"
     ]
    }
   ],
   "source": [
    "print(ratings_mat.shape)"
   ]
  },
  {
   "cell_type": "code",
   "execution_count": 52,
   "metadata": {},
   "outputs": [],
   "source": [
    "ratings_mat.fillna(0, inplace=True)"
   ]
  },
  {
   "cell_type": "code",
   "execution_count": 53,
   "metadata": {},
   "outputs": [],
   "source": [
    "from sklearn import neighbors\n",
    "from sklearn.neighbors import NearestNeighbors"
   ]
  },
  {
   "cell_type": "code",
   "execution_count": 54,
   "metadata": {},
   "outputs": [],
   "source": [
    "def sim(user_id,ratings, k):\n",
    "    \"\"\"This function calculates the similarity\"\"\"\n",
    "    sim = []\n",
    "    dist = []\n",
    "    knnclf = NearestNeighbors(algorithm = \"brute\",metric='euclidean')\n",
    "    knnclf.fit(ratings)\n",
    "    loc = ratings.index.get_loc(user_id)    \n",
    "    dist, index = knnclf.kneighbors(ratings.iloc[loc,:].values.reshape(1, -1), n_neighbors = k+1)\n",
    "    sim = 1 - dist.flatten()    \n",
    "    return sim, index"
   ]
  },
  {
   "cell_type": "code",
   "execution_count": 55,
   "metadata": {},
   "outputs": [],
   "source": [
    "def prediction(user_id, ratings, item, k):\n",
    "    \"\"\"using the above similarity matrix, we predict the item similar to the user\"\"\"\n",
    "    predict = 0\n",
    "    user = ratings.index.get_loc(user_id)\n",
    "    item = ratings.columns.get_loc(item)\n",
    "    similarity, index = sim(user_id, ratings, k)\n",
    "    mean_ratings = ratings.iloc[user,:].mean()\n",
    "    total = np.sum(similarity)-1\n",
    "    product = 1\n",
    "    wt_sum = 0\n",
    "    for i in range(0, len(index.flatten())):\n",
    "        if index.flatten()[i]==user: continue\n",
    "        else:\n",
    "            rating_diff = ratings.iloc[index.flatten()[i],item] - np.mean(ratings.iloc[index.flatten()[i],:])\n",
    "            product = rating_diff * similarity[i]\n",
    "            wt_sum += product\n",
    "    \n",
    "    if predict> 10: predict = 10\n",
    "    elif predict <= 0: predict = 0\n",
    "    predict = int(round(mean_ratings + (wt_sum/total)))\n",
    "    #print(user_id, item, predict)\n",
    "    return predict"
   ]
  },
  {
   "cell_type": "code",
   "execution_count": 56,
   "metadata": {},
   "outputs": [],
   "source": [
    "def recommend(user_id, ratings, k):\n",
    "    \"\"\"Function we recommend items to user by calculating the similarity and predicting the item.\"\"\"\n",
    "    predict = []\n",
    "    for i in range(ratings.shape[1]):\n",
    "        if(ratings[str(ratings.columns[i])][user_id]!=0):\n",
    "            predict.append(prediction(user_id, ratings, str(ratings.columns[i]),k))\n",
    "        else:\n",
    "            predict.append(-1)\n",
    "    predict = pd.Series(predict)\n",
    "    predict = predict.sort_values(ascending = False)\n",
    "    recommendation = predict[:10]\n",
    "    for i in range(len(recommendation)):\n",
    "        print(books.book_title[recommendation.index[i]])\n",
    "    return recommendation"
   ]
  },
  {
   "cell_type": "code",
   "execution_count": 57,
   "metadata": {},
   "outputs": [
    {
     "name": "stdout",
     "output_type": "stream",
     "text": [
      "Tales of the Sacred and the Supernatural\n",
      "Women With Attention Deficit Disorder: Embracing Disorganization at Home and in the Workplace\n",
      "Frindle\n",
      "Philosophischer Versuch Ã?Â¼ber die Wahrscheinlichkeit.\n",
      "Sternenflut. Roman.\n",
      "The Life of Mahatma Gandhi (Harper colophon books)\n",
      "Oxygen\n",
      "To Meet Again\n",
      "Satellite Sisters' Uncommon Senses\n",
      "The Little Engine That Could ABC (Wee Pudgy Board Books)\n"
     ]
    }
   ],
   "source": [
    "#Simple top - N recommendation using memory based approach\n",
    "recommendation = recommend(60337, ratings_mat, 5)"
   ]
  },
  {
   "cell_type": "markdown",
   "metadata": {},
   "source": [
    "# MODEL BASED APPROACH"
   ]
  },
  {
   "cell_type": "markdown",
   "metadata": {},
   "source": [
    "In this approach, we use the package called surprise module which is suggested to be used for building SVD and NMF models. We divide the the whole dataset into training and testing data using Hold out evaluation (80% - 20%). Get unique values for user and books, create a matrix for them based on ratings. Build the three models based on the user. Calculate Precision and recall values. Choose a model with best precision value as our final model and build a recommeder system based on user id."
   ]
  },
  {
   "cell_type": "code",
   "execution_count": 58,
   "metadata": {},
   "outputs": [],
   "source": [
    "books_users_ratings = pd.merge(users, result, how='right', on=['user_id', 'user_id'])"
   ]
  },
  {
   "cell_type": "code",
   "execution_count": 79,
   "metadata": {},
   "outputs": [
    {
     "data": {
      "text/html": [
       "<div>\n",
       "<style scoped>\n",
       "    .dataframe tbody tr th:only-of-type {\n",
       "        vertical-align: middle;\n",
       "    }\n",
       "\n",
       "    .dataframe tbody tr th {\n",
       "        vertical-align: top;\n",
       "    }\n",
       "\n",
       "    .dataframe thead th {\n",
       "        text-align: right;\n",
       "    }\n",
       "</style>\n",
       "<table border=\"1\" class=\"dataframe\">\n",
       "  <thead>\n",
       "    <tr style=\"text-align: right;\">\n",
       "      <th></th>\n",
       "      <th>user_id</th>\n",
       "      <th>unique_isbn</th>\n",
       "      <th>book_rating</th>\n",
       "    </tr>\n",
       "  </thead>\n",
       "  <tbody>\n",
       "    <tr>\n",
       "      <th>0</th>\n",
       "      <td>2033</td>\n",
       "      <td>0142000663</td>\n",
       "      <td>10</td>\n",
       "    </tr>\n",
       "    <tr>\n",
       "      <th>1</th>\n",
       "      <td>2033</td>\n",
       "      <td>0836218256</td>\n",
       "      <td>9</td>\n",
       "    </tr>\n",
       "    <tr>\n",
       "      <th>2</th>\n",
       "      <td>2033</td>\n",
       "      <td>0030020786</td>\n",
       "      <td>7</td>\n",
       "    </tr>\n",
       "    <tr>\n",
       "      <th>3</th>\n",
       "      <td>2033</td>\n",
       "      <td>0133502813</td>\n",
       "      <td>10</td>\n",
       "    </tr>\n",
       "    <tr>\n",
       "      <th>4</th>\n",
       "      <td>2033</td>\n",
       "      <td>0716724022</td>\n",
       "      <td>7</td>\n",
       "    </tr>\n",
       "  </tbody>\n",
       "</table>\n",
       "</div>"
      ],
      "text/plain": [
       "   user_id unique_isbn  book_rating\n",
       "0     2033  0142000663           10\n",
       "1     2033  0836218256            9\n",
       "2     2033  0030020786            7\n",
       "3     2033  0133502813           10\n",
       "4     2033  0716724022            7"
      ]
     },
     "execution_count": 79,
     "metadata": {},
     "output_type": "execute_result"
    }
   ],
   "source": [
    "uir = books_users_ratings[['user_id','unique_isbn','book_rating']]\n",
    "uir.head(5)"
   ]
  },
  {
   "cell_type": "code",
   "execution_count": 60,
   "metadata": {},
   "outputs": [
    {
     "name": "stderr",
     "output_type": "stream",
     "text": [
      "C:\\Users\\Rakshit\\Anaconda3\\lib\\site-packages\\ipykernel_launcher.py:4: SettingWithCopyWarning: \n",
      "A value is trying to be set on a copy of a slice from a DataFrame.\n",
      "Try using .loc[row_indexer,col_indexer] = value instead\n",
      "\n",
      "See the caveats in the documentation: http://pandas.pydata.org/pandas-docs/stable/indexing.html#indexing-view-versus-copy\n",
      "  after removing the cwd from sys.path.\n"
     ]
    }
   ],
   "source": [
    "uir_ex = uir\n",
    "b_unique = uir_ex.unique_isbn.unique()  # create a 'set' (i.e. all unique) list of vals\n",
    "book2idx = {o:i for i, o in enumerate(b_unique)}\n",
    "uir_ex['b_unique'] = uir_ex['unique_isbn'].map(book2idx)\n",
    "uir_ex_x = uir_ex[['user_id', 'b_unique']]\n",
    "uir_ex_y =uir_ex[['book_rating']]"
   ]
  },
  {
   "cell_type": "code",
   "execution_count": 61,
   "metadata": {},
   "outputs": [],
   "source": [
    "from sklearn import svm, datasets\n",
    "from sklearn.model_selection import train_test_split\n",
    "from sklearn.metrics import precision_recall_fscore_support\n",
    "from sklearn.neighbors import KNeighborsClassifier\n",
    "from sklearn.metrics import accuracy_score\n",
    "from sklearn.metrics import mean_squared_error\n",
    "from sklearn.metrics import mean_absolute_error\n",
    "from math import sqrt\n",
    "#divide the data into train and test\n",
    "X_train, X_test, y_train, y_test = train_test_split(uir_ex_x, uir_ex_y, test_size=.2, random_state=221)"
   ]
  },
  {
   "cell_type": "code",
   "execution_count": 62,
   "metadata": {},
   "outputs": [
    {
     "name": "stderr",
     "output_type": "stream",
     "text": [
      "C:\\Users\\Rakshit\\Anaconda3\\lib\\site-packages\\sklearn\\utils\\validation.py:578: DataConversionWarning: A column-vector y was passed when a 1d array was expected. Please change the shape of y to (n_samples, ), for example using ravel().\n",
      "  y = column_or_1d(y, warn=True)\n"
     ]
    },
    {
     "name": "stdout",
     "output_type": "stream",
     "text": [
      "0.18017305315203955\n"
     ]
    },
    {
     "name": "stderr",
     "output_type": "stream",
     "text": [
      "C:\\Users\\Rakshit\\Anaconda3\\lib\\site-packages\\sklearn\\metrics\\classification.py:1135: UndefinedMetricWarning: Precision and F-score are ill-defined and being set to 0.0 in labels with no predicted samples.\n",
      "  'precision', 'predicted', average, warn_for)\n"
     ]
    },
    {
     "data": {
      "text/plain": [
       "(0.029663678686006816, 0.10320074957524958, 0.03853277033437108, None)"
      ]
     },
     "execution_count": 62,
     "metadata": {},
     "output_type": "execute_result"
    }
   ],
   "source": [
    "#SVM model building\n",
    "classifier = svm.LinearSVC(random_state=221)\n",
    "classifier.fit(X_train, y_train)\n",
    "y_score = classifier.decision_function(X_test)\n",
    "pred = classifier.predict(X_test)\n",
    "print(accuracy_score(y_test, pred))\n",
    "precision_recall_fscore_support(y_test, pred, average='macro')"
   ]
  },
  {
   "cell_type": "code",
   "execution_count": 80,
   "metadata": {},
   "outputs": [],
   "source": [
    "from surprise import Reader, Dataset, SVD, NMF, model_selection, accuracy\n",
    "reader = Reader(rating_scale=(1, 10))\n",
    "data = Dataset.load_from_df(uir, reader)"
   ]
  },
  {
   "cell_type": "markdown",
   "metadata": {},
   "source": [
    "We run model based alogrithms on our data set, SVD and NMF. Out of both the best precision algorithm will be choosen as final model."
   ]
  },
  {
   "cell_type": "code",
   "execution_count": 81,
   "metadata": {},
   "outputs": [
    {
     "name": "stdout",
     "output_type": "stream",
     "text": [
      "RMSE: 1.4712\n",
      "MAE:  1.1063\n",
      "RMSE: 2.4061\n",
      "MAE:  2.0036\n"
     ]
    }
   ],
   "source": [
    "modelList=[SVD(),NMF()]\n",
    "trainset, testset = model_selection.train_test_split(data, test_size=0.2)\n",
    "for mod in modelList:\n",
    "    model = mod\n",
    "    model.fit(trainset)\n",
    "    predictions = model.test(testset)\n",
    "    accuracy.rmse(predictions)\n",
    "    accuracy.mae(predictions)"
   ]
  },
  {
   "cell_type": "code",
   "execution_count": 82,
   "metadata": {},
   "outputs": [],
   "source": [
    "param_grid = {'n_factors': [80, 100, 120], 'lr_all': [0.001, 0.005, 0.01], 'reg_all': [0.01, 0.02, 0.04]}\n",
    "gridSearch = GridSearchCV(SVD, param_grid, measures=['rmse', 'mae'], cv=3)\n",
    "gridSearch.fit(data)"
   ]
  },
  {
   "cell_type": "code",
   "execution_count": 68,
   "metadata": {},
   "outputs": [
    {
     "name": "stdout",
     "output_type": "stream",
     "text": [
      "1.4982246262633117\n",
      "{'n_factors': 100, 'lr_all': 0.005, 'reg_all': 0.04}\n"
     ]
    }
   ],
   "source": [
    "model = gridSearch.best_estimator['rmse']\n",
    "print(gridSearch.best_score['rmse'])\n",
    "print(gridSearch.best_params['rmse'])"
   ]
  },
  {
   "cell_type": "code",
   "execution_count": 69,
   "metadata": {
    "scrolled": true
   },
   "outputs": [
    {
     "name": "stdout",
     "output_type": "stream",
     "text": [
      "RMSE: 1.4852\n"
     ]
    },
    {
     "data": {
      "text/plain": [
       "1.4852117327229604"
      ]
     },
     "execution_count": 69,
     "metadata": {},
     "output_type": "execute_result"
    }
   ],
   "source": [
    "finalModel = SVD(n_factors=80, lr_all=0.005, reg_all=0.04)\n",
    "finalModel.fit(trainset)\n",
    "test_pred = finalModel.test(testset)\n",
    "accuracy.rmse(test_pred, verbose=True)"
   ]
  },
  {
   "cell_type": "markdown",
   "metadata": {},
   "source": [
    "Checking the validity, by predicting for a user and checking the predicted and actual rating"
   ]
  },
  {
   "cell_type": "code",
   "execution_count": 67,
   "metadata": {},
   "outputs": [
    {
     "name": "stdout",
     "output_type": "stream",
     "text": [
      "user: 277427     item: 0060006641 r_ui = None   est = 8.86   {'was_impossible': False}\n"
     ]
    }
   ],
   "source": [
    "uid = 277427\n",
    "iid = str('0060006641')\n",
    "pred = finalModel.predict(uid,iid, verbose=True)"
   ]
  },
  {
   "cell_type": "code",
   "execution_count": 68,
   "metadata": {},
   "outputs": [
    {
     "name": "stdout",
     "output_type": "stream",
     "text": [
      "Estimated rating for the book - \"unique_isbn\" isbn 0060006641 from user #277427 is 8.86.\n",
      "\n",
      "The real rating given for this was 10.00.\n"
     ]
    }
   ],
   "source": [
    "print(f'Estimated rating for the book - \"unique_isbn\" isbn {pred.iid} from user #{pred.uid} is {pred.est:.2f}.\\n')\n",
    "actual_rating = uir[(uir.user_id==pred.uid) & (uir.unique_isbn==pred.iid)].book_rating.values[0]\n",
    "print(f'The real rating given for this was {actual_rating:.2f}.')"
   ]
  },
  {
   "cell_type": "code",
   "execution_count": 70,
   "metadata": {},
   "outputs": [],
   "source": [
    "from collections import defaultdict\n",
    "\n",
    "def get_top_n(predictions, n=10):\n",
    "    \"\"\"This function creates a list of top 10 recommended items\"\"\"\n",
    "    top_n = defaultdict(list)\n",
    "    for uid, iid, true_r, est, _ in predictions:\n",
    "        top_n[uid].append((iid, est))\n",
    "\n",
    "    for uid, user_ratings in top_n.items():\n",
    "        user_ratings.sort(key=lambda x: x[1], reverse=True)\n",
    "        top_n[uid] = user_ratings[:n]\n",
    "        \n",
    "    return top_n"
   ]
  },
  {
   "cell_type": "markdown",
   "metadata": {},
   "source": [
    "based on the final model we predict and get the top n recommendation"
   ]
  },
  {
   "cell_type": "code",
   "execution_count": 71,
   "metadata": {},
   "outputs": [],
   "source": [
    "pred = finalModel.test(testset)\n",
    "top_n = get_top_n(pred)"
   ]
  },
  {
   "cell_type": "code",
   "execution_count": 72,
   "metadata": {},
   "outputs": [],
   "source": [
    "def get_reading_list(userid):\n",
    "    \"\"\"This function returns the recommended reading list by calculating the top 10 books\"\"\"\n",
    "    reading_list = defaultdict(list)\n",
    "    top_n = get_top_n(predictions, n=10)\n",
    "    for n in top_n[userid]:\n",
    "        book, rating = n\n",
    "        title = result.loc[result.unique_isbn==book].book_title.unique()[0]\n",
    "        reading_list[title] = rating\n",
    "    return reading_list"
   ]
  },
  {
   "cell_type": "markdown",
   "metadata": {},
   "source": [
    "Final based on the books recommended let us recommend the user - 60337 with our top 10 books and also display their ratings"
   ]
  },
  {
   "cell_type": "code",
   "execution_count": 73,
   "metadata": {
    "scrolled": true
   },
   "outputs": [
    {
     "name": "stdout",
     "output_type": "stream",
     "text": [
      "Book Titles                                                                      | Rating\n",
      "--------------------------------------------------------------------------------------------\n",
      "The Life I Lead: A Novel                                                         | 7.82 \n",
      "A FEW MINUTES WITH ANDY ROONEY                                                   | 7.82 \n",
      "GOING TO MEET THE MAN                                                            | 7.82 \n",
      "James Baldwin:American Writer, lives of notable gay men and lesbians             | 7.82 \n",
      "Taking Care of Mrs. Carroll (Stonewall Inn Editions)                             | 7.82 \n",
      "My Mama's Dead Squirrel: Lesbian Essays on Southern Culture                      | 7.82 \n",
      "Virtually Normal: An Argument About Homosexuality                                | 7.82 \n",
      "The Price of the Ticket : Collected Nonfiction, 1948-1985                        | 7.82 \n",
      "Understanding Literature: An Introduction to Reading and Writing                 | 7.82 \n",
      "The Secret of Roan Inish/Movie Tie-In                                            | 7.82 \n"
     ]
    }
   ],
   "source": [
    "example_reading_list = get_reading_list(userid=60337)\n",
    "print(\"{:<80} | {:<5}\".format(\"Book Titles\",\"Rating\"))\n",
    "print(\"--------------------------------------------------------------------------------------------\")\n",
    "for book, rating in example_reading_list.items():\n",
    "    print(\"{:<80} | {:<5}\".format(book, round(rating,2)))"
   ]
  },
  {
   "cell_type": "code",
   "execution_count": null,
   "metadata": {},
   "outputs": [],
   "source": []
  }
 ],
 "metadata": {
  "kernelspec": {
   "display_name": "Python 3",
   "language": "python",
   "name": "python3"
  },
  "language_info": {
   "codemirror_mode": {
    "name": "ipython",
    "version": 3
   },
   "file_extension": ".py",
   "mimetype": "text/x-python",
   "name": "python",
   "nbconvert_exporter": "python",
   "pygments_lexer": "ipython3",
   "version": "3.7.0"
  }
 },
 "nbformat": 4,
 "nbformat_minor": 2
}
